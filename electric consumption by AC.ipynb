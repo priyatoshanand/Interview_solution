{
 "cells": [
  {
   "cell_type": "code",
   "execution_count": 121,
   "id": "3e849866",
   "metadata": {},
   "outputs": [],
   "source": [
    "import numpy as np\n",
    "import pandas as pd\n",
    "import matplotlib.pyplot as plt\n",
    "import seaborn as sns\n",
    "\n",
    "from sklearn.compose import ColumnTransformer\n",
    "from sklearn.pipeline import Pipeline\n",
    "from sklearn.preprocessing import OneHotEncoder\n",
    "from sklearn.metrics import r2_score,mean_absolute_error\n",
    "\n",
    "from sklearn.linear_model import LinearRegression,Ridge,Lasso\n",
    "from sklearn.neighbors import KNeighborsRegressor\n",
    "from sklearn.tree import DecisionTreeRegressor\n",
    "from sklearn.ensemble import RandomForestRegressor,GradientBoostingRegressor,AdaBoostRegressor,ExtraTreesRegressor\n",
    "from sklearn.svm import SVR\n",
    "from xgboost import XGBRegressor\n",
    "from sklearn.model_selection import RandomizedSearchCV\n"
   ]
  },
  {
   "cell_type": "code",
   "execution_count": 122,
   "id": "41226f76",
   "metadata": {},
   "outputs": [],
   "source": [
    "#pip install xgboost"
   ]
  },
  {
   "cell_type": "code",
   "execution_count": 123,
   "id": "758fb8d3",
   "metadata": {},
   "outputs": [],
   "source": [
    "df_train = pd.read_csv('train.csv')\n",
    "df_sample = pd.read_csv('sample_submission.csv')"
   ]
  },
  {
   "cell_type": "code",
   "execution_count": 124,
   "id": "e4df272f",
   "metadata": {},
   "outputs": [
    {
     "data": {
      "text/html": [
       "<div>\n",
       "<style scoped>\n",
       "    .dataframe tbody tr th:only-of-type {\n",
       "        vertical-align: middle;\n",
       "    }\n",
       "\n",
       "    .dataframe tbody tr th {\n",
       "        vertical-align: top;\n",
       "    }\n",
       "\n",
       "    .dataframe thead th {\n",
       "        text-align: right;\n",
       "    }\n",
       "</style>\n",
       "<table border=\"1\" class=\"dataframe\">\n",
       "  <thead>\n",
       "    <tr style=\"text-align: right;\">\n",
       "      <th></th>\n",
       "      <th>ID</th>\n",
       "      <th>Type_of_AC</th>\n",
       "      <th>Model</th>\n",
       "      <th>Cooling_Capacity</th>\n",
       "      <th>Avg_Temp</th>\n",
       "      <th>Room_SIze</th>\n",
       "      <th>Num_People</th>\n",
       "      <th>Star_Rating</th>\n",
       "      <th>Age_of_Unit</th>\n",
       "      <th>Maintenance</th>\n",
       "      <th>Avg_Usage</th>\n",
       "      <th>Avg_AC_Temp</th>\n",
       "      <th>City</th>\n",
       "      <th>Input_Power</th>\n",
       "      <th>Electricity_Consumption_AC</th>\n",
       "    </tr>\n",
       "  </thead>\n",
       "  <tbody>\n",
       "    <tr>\n",
       "      <th>0</th>\n",
       "      <td>795823</td>\n",
       "      <td>Split</td>\n",
       "      <td>1.5</td>\n",
       "      <td>6579.15</td>\n",
       "      <td>43</td>\n",
       "      <td>1873.5</td>\n",
       "      <td>3</td>\n",
       "      <td>3.0</td>\n",
       "      <td>5.0</td>\n",
       "      <td>0</td>\n",
       "      <td>1.720</td>\n",
       "      <td>31.333333</td>\n",
       "      <td>Cairo</td>\n",
       "      <td>2863.2952214614106</td>\n",
       "      <td>1.924</td>\n",
       "    </tr>\n",
       "    <tr>\n",
       "      <th>1</th>\n",
       "      <td>506848</td>\n",
       "      <td>Window</td>\n",
       "      <td>1.1</td>\n",
       "      <td>6775.44</td>\n",
       "      <td>46</td>\n",
       "      <td>1603.8000000000002</td>\n",
       "      <td>4</td>\n",
       "      <td>4.0</td>\n",
       "      <td>1.0</td>\n",
       "      <td>0</td>\n",
       "      <td>18.000</td>\n",
       "      <td>29.500000</td>\n",
       "      <td>Bucharest</td>\n",
       "      <td>2783.3096980924593</td>\n",
       "      <td>1.341</td>\n",
       "    </tr>\n",
       "    <tr>\n",
       "      <th>2</th>\n",
       "      <td>441027</td>\n",
       "      <td>Portable</td>\n",
       "      <td>3.8</td>\n",
       "      <td>6995.22</td>\n",
       "      <td>29</td>\n",
       "      <td>4807.0</td>\n",
       "      <td>38</td>\n",
       "      <td>4.0</td>\n",
       "      <td>1.0</td>\n",
       "      <td>0</td>\n",
       "      <td>0.551</td>\n",
       "      <td>13.763158</td>\n",
       "      <td>Berlin</td>\n",
       "      <td>2882.6064181342504</td>\n",
       "      <td>2.702</td>\n",
       "    </tr>\n",
       "    <tr>\n",
       "      <th>3</th>\n",
       "      <td>160677</td>\n",
       "      <td>Window</td>\n",
       "      <td>1.2</td>\n",
       "      <td>1863.68</td>\n",
       "      <td>39</td>\n",
       "      <td>1466.3999999999999</td>\n",
       "      <td>10</td>\n",
       "      <td>4.0</td>\n",
       "      <td>0.0</td>\n",
       "      <td>0</td>\n",
       "      <td>19.540</td>\n",
       "      <td>22.900000</td>\n",
       "      <td>Cape Town</td>\n",
       "      <td>2607.0895663486162</td>\n",
       "      <td>1.541</td>\n",
       "    </tr>\n",
       "    <tr>\n",
       "      <th>4</th>\n",
       "      <td>902932</td>\n",
       "      <td>Window</td>\n",
       "      <td>NaN</td>\n",
       "      <td>3089.04</td>\n",
       "      <td>40</td>\n",
       "      <td>3139.4</td>\n",
       "      <td>9</td>\n",
       "      <td>5.0</td>\n",
       "      <td>4.0</td>\n",
       "      <td>0</td>\n",
       "      <td>16.760</td>\n",
       "      <td>18.444444</td>\n",
       "      <td>Berlin</td>\n",
       "      <td>2681.3591611159786</td>\n",
       "      <td>2.182</td>\n",
       "    </tr>\n",
       "  </tbody>\n",
       "</table>\n",
       "</div>"
      ],
      "text/plain": [
       "       ID Type_of_AC  Model  Cooling_Capacity  Avg_Temp           Room_SIze  \\\n",
       "0  795823      Split    1.5           6579.15        43              1873.5   \n",
       "1  506848     Window    1.1           6775.44        46  1603.8000000000002   \n",
       "2  441027   Portable    3.8           6995.22        29              4807.0   \n",
       "3  160677     Window    1.2           1863.68        39  1466.3999999999999   \n",
       "4  902932     Window    NaN           3089.04        40              3139.4   \n",
       "\n",
       "   Num_People Star_Rating  Age_of_Unit  Maintenance  Avg_Usage  Avg_AC_Temp  \\\n",
       "0           3         3.0          5.0            0      1.720    31.333333   \n",
       "1           4         4.0          1.0            0     18.000    29.500000   \n",
       "2          38         4.0          1.0            0      0.551    13.763158   \n",
       "3          10         4.0          0.0            0     19.540    22.900000   \n",
       "4           9         5.0          4.0            0     16.760    18.444444   \n",
       "\n",
       "        City         Input_Power  Electricity_Consumption_AC  \n",
       "0      Cairo  2863.2952214614106                       1.924  \n",
       "1  Bucharest  2783.3096980924593                       1.341  \n",
       "2     Berlin  2882.6064181342504                       2.702  \n",
       "3  Cape Town  2607.0895663486162                       1.541  \n",
       "4     Berlin  2681.3591611159786                       2.182  "
      ]
     },
     "execution_count": 124,
     "metadata": {},
     "output_type": "execute_result"
    }
   ],
   "source": [
    "df_train.head()"
   ]
  },
  {
   "cell_type": "code",
   "execution_count": 125,
   "id": "64da3e1f",
   "metadata": {},
   "outputs": [
    {
     "data": {
      "text/html": [
       "<div>\n",
       "<style scoped>\n",
       "    .dataframe tbody tr th:only-of-type {\n",
       "        vertical-align: middle;\n",
       "    }\n",
       "\n",
       "    .dataframe tbody tr th {\n",
       "        vertical-align: top;\n",
       "    }\n",
       "\n",
       "    .dataframe thead th {\n",
       "        text-align: right;\n",
       "    }\n",
       "</style>\n",
       "<table border=\"1\" class=\"dataframe\">\n",
       "  <thead>\n",
       "    <tr style=\"text-align: right;\">\n",
       "      <th></th>\n",
       "      <th>ID</th>\n",
       "      <th>Electricity_Consumption_AC</th>\n",
       "    </tr>\n",
       "  </thead>\n",
       "  <tbody>\n",
       "    <tr>\n",
       "      <th>0</th>\n",
       "      <td>136515</td>\n",
       "      <td>1.868</td>\n",
       "    </tr>\n",
       "    <tr>\n",
       "      <th>1</th>\n",
       "      <td>961984</td>\n",
       "      <td>1.545</td>\n",
       "    </tr>\n",
       "    <tr>\n",
       "      <th>2</th>\n",
       "      <td>453259</td>\n",
       "      <td>2.155</td>\n",
       "    </tr>\n",
       "    <tr>\n",
       "      <th>3</th>\n",
       "      <td>724619</td>\n",
       "      <td>2.066</td>\n",
       "    </tr>\n",
       "    <tr>\n",
       "      <th>4</th>\n",
       "      <td>102491</td>\n",
       "      <td>2.951</td>\n",
       "    </tr>\n",
       "  </tbody>\n",
       "</table>\n",
       "</div>"
      ],
      "text/plain": [
       "       ID  Electricity_Consumption_AC\n",
       "0  136515                       1.868\n",
       "1  961984                       1.545\n",
       "2  453259                       2.155\n",
       "3  724619                       2.066\n",
       "4  102491                       2.951"
      ]
     },
     "execution_count": 125,
     "metadata": {},
     "output_type": "execute_result"
    }
   ],
   "source": [
    "df_sample.head()"
   ]
  },
  {
   "cell_type": "code",
   "execution_count": 126,
   "id": "e18b1db7",
   "metadata": {},
   "outputs": [
    {
     "name": "stdout",
     "output_type": "stream",
     "text": [
      "<class 'pandas.core.frame.DataFrame'>\n",
      "RangeIndex: 15000 entries, 0 to 14999\n",
      "Data columns (total 15 columns):\n",
      " #   Column                      Non-Null Count  Dtype  \n",
      "---  ------                      --------------  -----  \n",
      " 0   ID                          15000 non-null  int64  \n",
      " 1   Type_of_AC                  15000 non-null  object \n",
      " 2   Model                       14130 non-null  float64\n",
      " 3   Cooling_Capacity            15000 non-null  float64\n",
      " 4   Avg_Temp                    15000 non-null  int64  \n",
      " 5   Room_SIze                   13987 non-null  object \n",
      " 6   Num_People                  15000 non-null  int64  \n",
      " 7   Star_Rating                 14103 non-null  object \n",
      " 8   Age_of_Unit                 14018 non-null  float64\n",
      " 9   Maintenance                 15000 non-null  int64  \n",
      " 10  Avg_Usage                   15000 non-null  float64\n",
      " 11  Avg_AC_Temp                 15000 non-null  float64\n",
      " 12  City                        13506 non-null  object \n",
      " 13  Input_Power                 14287 non-null  object \n",
      " 14  Electricity_Consumption_AC  15000 non-null  float64\n",
      "dtypes: float64(6), int64(4), object(5)\n",
      "memory usage: 1.7+ MB\n"
     ]
    }
   ],
   "source": [
    "df_train.info()"
   ]
  },
  {
   "cell_type": "code",
   "execution_count": 127,
   "id": "55a6f314",
   "metadata": {},
   "outputs": [
    {
     "data": {
      "text/html": [
       "<div>\n",
       "<style scoped>\n",
       "    .dataframe tbody tr th:only-of-type {\n",
       "        vertical-align: middle;\n",
       "    }\n",
       "\n",
       "    .dataframe tbody tr th {\n",
       "        vertical-align: top;\n",
       "    }\n",
       "\n",
       "    .dataframe thead th {\n",
       "        text-align: right;\n",
       "    }\n",
       "</style>\n",
       "<table border=\"1\" class=\"dataframe\">\n",
       "  <thead>\n",
       "    <tr style=\"text-align: right;\">\n",
       "      <th></th>\n",
       "      <th>ID</th>\n",
       "      <th>Model</th>\n",
       "      <th>Cooling_Capacity</th>\n",
       "      <th>Avg_Temp</th>\n",
       "      <th>Num_People</th>\n",
       "      <th>Age_of_Unit</th>\n",
       "      <th>Maintenance</th>\n",
       "      <th>Avg_Usage</th>\n",
       "      <th>Avg_AC_Temp</th>\n",
       "      <th>Electricity_Consumption_AC</th>\n",
       "    </tr>\n",
       "  </thead>\n",
       "  <tbody>\n",
       "    <tr>\n",
       "      <th>count</th>\n",
       "      <td>15000.000000</td>\n",
       "      <td>14130.000000</td>\n",
       "      <td>15000.000000</td>\n",
       "      <td>15000.000000</td>\n",
       "      <td>15000.000000</td>\n",
       "      <td>14018.000000</td>\n",
       "      <td>15000.000000</td>\n",
       "      <td>15000.000000</td>\n",
       "      <td>15000.000000</td>\n",
       "      <td>15000.000000</td>\n",
       "    </tr>\n",
       "    <tr>\n",
       "      <th>mean</th>\n",
       "      <td>552100.445600</td>\n",
       "      <td>2.749264</td>\n",
       "      <td>5125.648041</td>\n",
       "      <td>36.461333</td>\n",
       "      <td>19.164067</td>\n",
       "      <td>2.992795</td>\n",
       "      <td>0.225800</td>\n",
       "      <td>11.225386</td>\n",
       "      <td>17.653861</td>\n",
       "      <td>2.119572</td>\n",
       "    </tr>\n",
       "    <tr>\n",
       "      <th>std</th>\n",
       "      <td>258986.255687</td>\n",
       "      <td>1.838315</td>\n",
       "      <td>3989.023423</td>\n",
       "      <td>5.007572</td>\n",
       "      <td>15.988777</td>\n",
       "      <td>2.004743</td>\n",
       "      <td>0.418122</td>\n",
       "      <td>5.328956</td>\n",
       "      <td>3.906928</td>\n",
       "      <td>0.391431</td>\n",
       "    </tr>\n",
       "    <tr>\n",
       "      <th>min</th>\n",
       "      <td>100117.000000</td>\n",
       "      <td>1.000000</td>\n",
       "      <td>1108.800000</td>\n",
       "      <td>18.000000</td>\n",
       "      <td>2.000000</td>\n",
       "      <td>0.000000</td>\n",
       "      <td>0.000000</td>\n",
       "      <td>0.000000</td>\n",
       "      <td>10.541667</td>\n",
       "      <td>0.791000</td>\n",
       "    </tr>\n",
       "    <tr>\n",
       "      <th>25%</th>\n",
       "      <td>331722.250000</td>\n",
       "      <td>1.700000</td>\n",
       "      <td>2879.172500</td>\n",
       "      <td>33.000000</td>\n",
       "      <td>10.000000</td>\n",
       "      <td>1.000000</td>\n",
       "      <td>0.000000</td>\n",
       "      <td>7.390750</td>\n",
       "      <td>14.727273</td>\n",
       "      <td>1.841000</td>\n",
       "    </tr>\n",
       "    <tr>\n",
       "      <th>50%</th>\n",
       "      <td>551519.500000</td>\n",
       "      <td>2.500000</td>\n",
       "      <td>4548.825000</td>\n",
       "      <td>36.000000</td>\n",
       "      <td>16.000000</td>\n",
       "      <td>3.000000</td>\n",
       "      <td>0.000000</td>\n",
       "      <td>11.618000</td>\n",
       "      <td>17.403704</td>\n",
       "      <td>2.117000</td>\n",
       "    </tr>\n",
       "    <tr>\n",
       "      <th>75%</th>\n",
       "      <td>777359.500000</td>\n",
       "      <td>3.300000</td>\n",
       "      <td>6170.120000</td>\n",
       "      <td>40.000000</td>\n",
       "      <td>25.000000</td>\n",
       "      <td>5.000000</td>\n",
       "      <td>0.000000</td>\n",
       "      <td>15.756000</td>\n",
       "      <td>20.094122</td>\n",
       "      <td>2.386250</td>\n",
       "    </tr>\n",
       "    <tr>\n",
       "      <th>max</th>\n",
       "      <td>999989.000000</td>\n",
       "      <td>15.600000</td>\n",
       "      <td>32556.680000</td>\n",
       "      <td>56.000000</td>\n",
       "      <td>250.000000</td>\n",
       "      <td>6.000000</td>\n",
       "      <td>1.000000</td>\n",
       "      <td>19.996000</td>\n",
       "      <td>41.000000</td>\n",
       "      <td>3.516000</td>\n",
       "    </tr>\n",
       "  </tbody>\n",
       "</table>\n",
       "</div>"
      ],
      "text/plain": [
       "                  ID         Model  Cooling_Capacity      Avg_Temp  \\\n",
       "count   15000.000000  14130.000000      15000.000000  15000.000000   \n",
       "mean   552100.445600      2.749264       5125.648041     36.461333   \n",
       "std    258986.255687      1.838315       3989.023423      5.007572   \n",
       "min    100117.000000      1.000000       1108.800000     18.000000   \n",
       "25%    331722.250000      1.700000       2879.172500     33.000000   \n",
       "50%    551519.500000      2.500000       4548.825000     36.000000   \n",
       "75%    777359.500000      3.300000       6170.120000     40.000000   \n",
       "max    999989.000000     15.600000      32556.680000     56.000000   \n",
       "\n",
       "         Num_People   Age_of_Unit   Maintenance     Avg_Usage   Avg_AC_Temp  \\\n",
       "count  15000.000000  14018.000000  15000.000000  15000.000000  15000.000000   \n",
       "mean      19.164067      2.992795      0.225800     11.225386     17.653861   \n",
       "std       15.988777      2.004743      0.418122      5.328956      3.906928   \n",
       "min        2.000000      0.000000      0.000000      0.000000     10.541667   \n",
       "25%       10.000000      1.000000      0.000000      7.390750     14.727273   \n",
       "50%       16.000000      3.000000      0.000000     11.618000     17.403704   \n",
       "75%       25.000000      5.000000      0.000000     15.756000     20.094122   \n",
       "max      250.000000      6.000000      1.000000     19.996000     41.000000   \n",
       "\n",
       "       Electricity_Consumption_AC  \n",
       "count                15000.000000  \n",
       "mean                     2.119572  \n",
       "std                      0.391431  \n",
       "min                      0.791000  \n",
       "25%                      1.841000  \n",
       "50%                      2.117000  \n",
       "75%                      2.386250  \n",
       "max                      3.516000  "
      ]
     },
     "execution_count": 127,
     "metadata": {},
     "output_type": "execute_result"
    }
   ],
   "source": [
    "df_train.describe()"
   ]
  },
  {
   "cell_type": "code",
   "execution_count": 128,
   "id": "3788caeb",
   "metadata": {
    "scrolled": true
   },
   "outputs": [
    {
     "name": "stderr",
     "output_type": "stream",
     "text": [
      "C:\\Users\\T470s\\AppData\\Local\\Temp\\ipykernel_10332\\3607279796.py:1: FutureWarning: The default value of numeric_only in DataFrame.corr is deprecated. In a future version, it will default to False. Select only valid columns or specify the value of numeric_only to silence this warning.\n",
      "  sns.heatmap(df_train.corr(), annot=True, )\n"
     ]
    },
    {
     "data": {
      "text/plain": [
       "<Axes: >"
      ]
     },
     "execution_count": 128,
     "metadata": {},
     "output_type": "execute_result"
    },
    {
     "data": {
      "image/png": "[encoded data removed]",
      "text/plain": [
       "<Figure size 640x480 with 2 Axes>"
      ]
     },
     "metadata": {},
     "output_type": "display_data"
    }
   ],
   "source": [
    "sns.heatmap(df_train.corr(), annot=True, )"
   ]
  },
  {
   "cell_type": "code",
   "execution_count": 129,
   "id": "f5162ee9",
   "metadata": {},
   "outputs": [
    {
     "data": {
      "text/plain": [
       "ID                               0\n",
       "Type_of_AC                       0\n",
       "Model                          870\n",
       "Cooling_Capacity                 0\n",
       "Avg_Temp                         0\n",
       "Room_SIze                     1013\n",
       "Num_People                       0\n",
       "Star_Rating                    897\n",
       "Age_of_Unit                    982\n",
       "Maintenance                      0\n",
       "Avg_Usage                        0\n",
       "Avg_AC_Temp                      0\n",
       "City                          1494\n",
       "Input_Power                    713\n",
       "Electricity_Consumption_AC       0\n",
       "dtype: int64"
      ]
     },
     "execution_count": 129,
     "metadata": {},
     "output_type": "execute_result"
    }
   ],
   "source": [
    "df_train.isnull().sum()"
   ]
  },
  {
   "cell_type": "code",
   "execution_count": 130,
   "id": "a9f0a529",
   "metadata": {},
   "outputs": [
    {
     "name": "stdout",
     "output_type": "stream",
     "text": [
      "Model 0.058  % missing values\n",
      "Room_SIze 0.0675  % missing values\n",
      "Star_Rating 0.0598  % missing values\n",
      "Age_of_Unit 0.0655  % missing values\n",
      "City 0.0996  % missing values\n",
      "Input_Power 0.0475  % missing values\n"
     ]
    }
   ],
   "source": [
    "## Here we will check the percentage of nan values present in each feature\n",
    "## 1 -step make the list of features which has missing values\n",
    "features_with_na=[features for features in df_train.columns if df_train[features].isnull().sum()>1]\n",
    "## 2- step print the feature name and the percentage of missing values\n",
    "\n",
    "for feature in features_with_na:\n",
    "    print(feature, np.round(df_train[feature].isnull().mean(), 4),  ' % missing values')"
   ]
  },
  {
   "cell_type": "code",
   "execution_count": 131,
   "id": "7505ae93",
   "metadata": {},
   "outputs": [
    {
     "name": "stderr",
     "output_type": "stream",
     "text": [
      "C:\\Users\\T470s\\AppData\\Local\\Temp\\ipykernel_10332\\2440704953.py:1: UserWarning: \n",
      "\n",
      "`distplot` is a deprecated function and will be removed in seaborn v0.14.0.\n",
      "\n",
      "Please adapt your code to use either `displot` (a figure-level function with\n",
      "similar flexibility) or `histplot` (an axes-level function for histograms).\n",
      "\n",
      "For a guide to updating your code to use the new functions, please see\n",
      "https://gist.github.com/mwaskom/de44147ed2974457ad6372750bbe5751\n",
      "\n",
      "  sns.distplot(df_train['Electricity_Consumption_AC'])\n"
     ]
    },
    {
     "data": {
      "text/plain": [
       "<Axes: xlabel='Electricity_Consumption_AC', ylabel='Density'>"
      ]
     },
     "execution_count": 131,
     "metadata": {},
     "output_type": "execute_result"
    },
    {
     "data": {
      "image/png": "[encoded data removed]",
      "text/plain": [
       "<Figure size 640x480 with 1 Axes>"
      ]
     },
     "metadata": {},
     "output_type": "display_data"
    }
   ],
   "source": [
    "sns.distplot(df_train['Electricity_Consumption_AC'])"
   ]
  },
  {
   "cell_type": "code",
   "execution_count": 132,
   "id": "51865afa",
   "metadata": {},
   "outputs": [
    {
     "data": {
      "text/html": [
       "<div>\n",
       "<style scoped>\n",
       "    .dataframe tbody tr th:only-of-type {\n",
       "        vertical-align: middle;\n",
       "    }\n",
       "\n",
       "    .dataframe tbody tr th {\n",
       "        vertical-align: top;\n",
       "    }\n",
       "\n",
       "    .dataframe thead th {\n",
       "        text-align: right;\n",
       "    }\n",
       "</style>\n",
       "<table border=\"1\" class=\"dataframe\">\n",
       "  <thead>\n",
       "    <tr style=\"text-align: right;\">\n",
       "      <th></th>\n",
       "      <th>ID</th>\n",
       "      <th>Type_of_AC</th>\n",
       "      <th>Model</th>\n",
       "      <th>Cooling_Capacity</th>\n",
       "      <th>Avg_Temp</th>\n",
       "      <th>Room_SIze</th>\n",
       "      <th>Num_People</th>\n",
       "      <th>Star_Rating</th>\n",
       "      <th>Age_of_Unit</th>\n",
       "      <th>Maintenance</th>\n",
       "      <th>Avg_Usage</th>\n",
       "      <th>Avg_AC_Temp</th>\n",
       "      <th>City</th>\n",
       "      <th>Input_Power</th>\n",
       "    </tr>\n",
       "  </thead>\n",
       "  <tbody>\n",
       "    <tr>\n",
       "      <th>0</th>\n",
       "      <td>191220</td>\n",
       "      <td>Portable</td>\n",
       "      <td>2.1</td>\n",
       "      <td>4283.40</td>\n",
       "      <td>35</td>\n",
       "      <td>NaN</td>\n",
       "      <td>9</td>\n",
       "      <td>NaN</td>\n",
       "      <td>5.0</td>\n",
       "      <td>0</td>\n",
       "      <td>8.770</td>\n",
       "      <td>14.888889</td>\n",
       "      <td>Moscow</td>\n",
       "      <td>2906.0447135703043</td>\n",
       "    </tr>\n",
       "    <tr>\n",
       "      <th>1</th>\n",
       "      <td>174111</td>\n",
       "      <td>Split</td>\n",
       "      <td>1.0</td>\n",
       "      <td>2157.10</td>\n",
       "      <td>29</td>\n",
       "      <td>1432.0</td>\n",
       "      <td>12</td>\n",
       "      <td>4.0</td>\n",
       "      <td>3.0</td>\n",
       "      <td>0</td>\n",
       "      <td>15.022</td>\n",
       "      <td>12.416667</td>\n",
       "      <td>Moscow</td>\n",
       "      <td>2807.713198343998</td>\n",
       "    </tr>\n",
       "    <tr>\n",
       "      <th>2</th>\n",
       "      <td>614605</td>\n",
       "      <td>Split</td>\n",
       "      <td>3.3</td>\n",
       "      <td>3484.60</td>\n",
       "      <td>31</td>\n",
       "      <td>4372.5</td>\n",
       "      <td>30</td>\n",
       "      <td>4.0</td>\n",
       "      <td>4.0</td>\n",
       "      <td>0</td>\n",
       "      <td>18.352</td>\n",
       "      <td>15.033333</td>\n",
       "      <td>Berlin</td>\n",
       "      <td>2723.183862010795</td>\n",
       "    </tr>\n",
       "    <tr>\n",
       "      <th>3</th>\n",
       "      <td>865325</td>\n",
       "      <td>Portable</td>\n",
       "      <td>2.6</td>\n",
       "      <td>1270.08</td>\n",
       "      <td>32</td>\n",
       "      <td>3255.2000000000003</td>\n",
       "      <td>9</td>\n",
       "      <td>2.0</td>\n",
       "      <td>0.0</td>\n",
       "      <td>0</td>\n",
       "      <td>16.512</td>\n",
       "      <td>15.555556</td>\n",
       "      <td>Cairo</td>\n",
       "      <td>2846.221681385789</td>\n",
       "    </tr>\n",
       "    <tr>\n",
       "      <th>4</th>\n",
       "      <td>134921</td>\n",
       "      <td>Ducted</td>\n",
       "      <td>2.0</td>\n",
       "      <td>4947.60</td>\n",
       "      <td>32</td>\n",
       "      <td>2730.0</td>\n",
       "      <td>24</td>\n",
       "      <td>5.0</td>\n",
       "      <td>2.0</td>\n",
       "      <td>1</td>\n",
       "      <td>17.856</td>\n",
       "      <td>11.333333</td>\n",
       "      <td>Delhi</td>\n",
       "      <td>3146.6627808826966</td>\n",
       "    </tr>\n",
       "  </tbody>\n",
       "</table>\n",
       "</div>"
      ],
      "text/plain": [
       "       ID Type_of_AC  Model  Cooling_Capacity  Avg_Temp           Room_SIze  \\\n",
       "0  191220   Portable    2.1           4283.40        35                 NaN   \n",
       "1  174111      Split    1.0           2157.10        29              1432.0   \n",
       "2  614605      Split    3.3           3484.60        31              4372.5   \n",
       "3  865325   Portable    2.6           1270.08        32  3255.2000000000003   \n",
       "4  134921     Ducted    2.0           4947.60        32              2730.0   \n",
       "\n",
       "   Num_People Star_Rating  Age_of_Unit  Maintenance  Avg_Usage  Avg_AC_Temp  \\\n",
       "0           9         NaN          5.0            0      8.770    14.888889   \n",
       "1          12         4.0          3.0            0     15.022    12.416667   \n",
       "2          30         4.0          4.0            0     18.352    15.033333   \n",
       "3           9         2.0          0.0            0     16.512    15.555556   \n",
       "4          24         5.0          2.0            1     17.856    11.333333   \n",
       "\n",
       "     City         Input_Power  \n",
       "0  Moscow  2906.0447135703043  \n",
       "1  Moscow   2807.713198343998  \n",
       "2  Berlin   2723.183862010795  \n",
       "3   Cairo   2846.221681385789  \n",
       "4   Delhi  3146.6627808826966  "
      ]
     },
     "execution_count": 132,
     "metadata": {},
     "output_type": "execute_result"
    }
   ],
   "source": [
    "df_test = pd.read_csv('test.csv')\n",
    "df_test.head()"
   ]
  },
  {
   "cell_type": "code",
   "execution_count": 133,
   "id": "61f8f8e1",
   "metadata": {},
   "outputs": [
    {
     "name": "stdout",
     "output_type": "stream",
     "text": [
      "<class 'pandas.core.frame.DataFrame'>\n",
      "RangeIndex: 5000 entries, 0 to 4999\n",
      "Data columns (total 14 columns):\n",
      " #   Column            Non-Null Count  Dtype  \n",
      "---  ------            --------------  -----  \n",
      " 0   ID                5000 non-null   int64  \n",
      " 1   Type_of_AC        5000 non-null   object \n",
      " 2   Model             4705 non-null   float64\n",
      " 3   Cooling_Capacity  5000 non-null   float64\n",
      " 4   Avg_Temp          5000 non-null   int64  \n",
      " 5   Room_SIze         4611 non-null   object \n",
      " 6   Num_People        5000 non-null   int64  \n",
      " 7   Star_Rating       4724 non-null   object \n",
      " 8   Age_of_Unit       4665 non-null   float64\n",
      " 9   Maintenance       5000 non-null   int64  \n",
      " 10  Avg_Usage         5000 non-null   float64\n",
      " 11  Avg_AC_Temp       5000 non-null   float64\n",
      " 12  City              4513 non-null   object \n",
      " 13  Input_Power       4763 non-null   object \n",
      "dtypes: float64(5), int64(4), object(5)\n",
      "memory usage: 547.0+ KB\n"
     ]
    }
   ],
   "source": [
    "df_test.info()"
   ]
  },
  {
   "cell_type": "code",
   "execution_count": 134,
   "id": "7146ad19",
   "metadata": {},
   "outputs": [],
   "source": [
    "dataset = df_train.copy()"
   ]
  },
  {
   "cell_type": "code",
   "execution_count": 135,
   "id": "7ac52774",
   "metadata": {},
   "outputs": [
    {
     "data": {
      "text/plain": [
       "(15000, 15)"
      ]
     },
     "execution_count": 135,
     "metadata": {},
     "output_type": "execute_result"
    }
   ],
   "source": [
    "dataset.shape"
   ]
  },
  {
   "cell_type": "markdown",
   "id": "e0995a58",
   "metadata": {},
   "source": [
    "# Numerical Variables"
   ]
  },
  {
   "cell_type": "code",
   "execution_count": 136,
   "id": "679eb41d",
   "metadata": {},
   "outputs": [
    {
     "name": "stdout",
     "output_type": "stream",
     "text": [
      "Number of numerical variables:  10\n"
     ]
    },
    {
     "data": {
      "text/html": [
       "<div>\n",
       "<style scoped>\n",
       "    .dataframe tbody tr th:only-of-type {\n",
       "        vertical-align: middle;\n",
       "    }\n",
       "\n",
       "    .dataframe tbody tr th {\n",
       "        vertical-align: top;\n",
       "    }\n",
       "\n",
       "    .dataframe thead th {\n",
       "        text-align: right;\n",
       "    }\n",
       "</style>\n",
       "<table border=\"1\" class=\"dataframe\">\n",
       "  <thead>\n",
       "    <tr style=\"text-align: right;\">\n",
       "      <th></th>\n",
       "      <th>ID</th>\n",
       "      <th>Model</th>\n",
       "      <th>Cooling_Capacity</th>\n",
       "      <th>Avg_Temp</th>\n",
       "      <th>Num_People</th>\n",
       "      <th>Age_of_Unit</th>\n",
       "      <th>Maintenance</th>\n",
       "      <th>Avg_Usage</th>\n",
       "      <th>Avg_AC_Temp</th>\n",
       "      <th>Electricity_Consumption_AC</th>\n",
       "    </tr>\n",
       "  </thead>\n",
       "  <tbody>\n",
       "    <tr>\n",
       "      <th>0</th>\n",
       "      <td>795823</td>\n",
       "      <td>1.5</td>\n",
       "      <td>6579.15</td>\n",
       "      <td>43</td>\n",
       "      <td>3</td>\n",
       "      <td>5.0</td>\n",
       "      <td>0</td>\n",
       "      <td>1.720</td>\n",
       "      <td>31.333333</td>\n",
       "      <td>1.924</td>\n",
       "    </tr>\n",
       "    <tr>\n",
       "      <th>1</th>\n",
       "      <td>506848</td>\n",
       "      <td>1.1</td>\n",
       "      <td>6775.44</td>\n",
       "      <td>46</td>\n",
       "      <td>4</td>\n",
       "      <td>1.0</td>\n",
       "      <td>0</td>\n",
       "      <td>18.000</td>\n",
       "      <td>29.500000</td>\n",
       "      <td>1.341</td>\n",
       "    </tr>\n",
       "    <tr>\n",
       "      <th>2</th>\n",
       "      <td>441027</td>\n",
       "      <td>3.8</td>\n",
       "      <td>6995.22</td>\n",
       "      <td>29</td>\n",
       "      <td>38</td>\n",
       "      <td>1.0</td>\n",
       "      <td>0</td>\n",
       "      <td>0.551</td>\n",
       "      <td>13.763158</td>\n",
       "      <td>2.702</td>\n",
       "    </tr>\n",
       "    <tr>\n",
       "      <th>3</th>\n",
       "      <td>160677</td>\n",
       "      <td>1.2</td>\n",
       "      <td>1863.68</td>\n",
       "      <td>39</td>\n",
       "      <td>10</td>\n",
       "      <td>0.0</td>\n",
       "      <td>0</td>\n",
       "      <td>19.540</td>\n",
       "      <td>22.900000</td>\n",
       "      <td>1.541</td>\n",
       "    </tr>\n",
       "    <tr>\n",
       "      <th>4</th>\n",
       "      <td>902932</td>\n",
       "      <td>NaN</td>\n",
       "      <td>3089.04</td>\n",
       "      <td>40</td>\n",
       "      <td>9</td>\n",
       "      <td>4.0</td>\n",
       "      <td>0</td>\n",
       "      <td>16.760</td>\n",
       "      <td>18.444444</td>\n",
       "      <td>2.182</td>\n",
       "    </tr>\n",
       "  </tbody>\n",
       "</table>\n",
       "</div>"
      ],
      "text/plain": [
       "       ID  Model  Cooling_Capacity  Avg_Temp  Num_People  Age_of_Unit  \\\n",
       "0  795823    1.5           6579.15        43           3          5.0   \n",
       "1  506848    1.1           6775.44        46           4          1.0   \n",
       "2  441027    3.8           6995.22        29          38          1.0   \n",
       "3  160677    1.2           1863.68        39          10          0.0   \n",
       "4  902932    NaN           3089.04        40           9          4.0   \n",
       "\n",
       "   Maintenance  Avg_Usage  Avg_AC_Temp  Electricity_Consumption_AC  \n",
       "0            0      1.720    31.333333                       1.924  \n",
       "1            0     18.000    29.500000                       1.341  \n",
       "2            0      0.551    13.763158                       2.702  \n",
       "3            0     19.540    22.900000                       1.541  \n",
       "4            0     16.760    18.444444                       2.182  "
      ]
     },
     "execution_count": 136,
     "metadata": {},
     "output_type": "execute_result"
    }
   ],
   "source": [
    "# list of numerical variables\n",
    "numerical_features = [feature for feature in dataset.columns if dataset[feature].dtypes != 'O']\n",
    "\n",
    "print('Number of numerical variables: ', len(numerical_features))\n",
    "\n",
    "# visualise the numerical variables\n",
    "dataset[numerical_features].head()"
   ]
  },
  {
   "cell_type": "code",
   "execution_count": 137,
   "id": "b42cac4c",
   "metadata": {},
   "outputs": [
    {
     "data": {
      "text/plain": [
       "(15000, 15)"
      ]
     },
     "execution_count": 137,
     "metadata": {},
     "output_type": "execute_result"
    }
   ],
   "source": [
    "dataset.shape"
   ]
  },
  {
   "cell_type": "code",
   "execution_count": 138,
   "id": "00fdad9d",
   "metadata": {},
   "outputs": [
    {
     "name": "stdout",
     "output_type": "stream",
     "text": [
      "Discrete Variables Count: 2\n"
     ]
    }
   ],
   "source": [
    "## Numerical variables are usually of 2 type\n",
    "## 1. Continous variable and Discrete Variables\n",
    "\n",
    "discrete_feature=[feature for feature in numerical_features if len(dataset[feature].unique())<25 and ['Id']]\n",
    "print(\"Discrete Variables Count: {}\".format(len(discrete_feature)))"
   ]
  },
  {
   "cell_type": "code",
   "execution_count": 139,
   "id": "4d4a490e",
   "metadata": {},
   "outputs": [
    {
     "data": {
      "text/plain": [
       "['Age_of_Unit', 'Maintenance']"
      ]
     },
     "execution_count": 139,
     "metadata": {},
     "output_type": "execute_result"
    }
   ],
   "source": [
    "discrete_feature"
   ]
  },
  {
   "cell_type": "code",
   "execution_count": 140,
   "id": "fffa9036",
   "metadata": {},
   "outputs": [
    {
     "name": "stdout",
     "output_type": "stream",
     "text": [
      "Continuous feature Count 8\n"
     ]
    }
   ],
   "source": [
    "continuous_feature=[feature for feature in numerical_features if feature not in discrete_feature+['Id']]\n",
    "print(\"Continuous feature Count {}\".format(len(continuous_feature)))"
   ]
  },
  {
   "cell_type": "code",
   "execution_count": 141,
   "id": "a006d72f",
   "metadata": {},
   "outputs": [
    {
     "data": {
      "image/png": "[encoded data removed]",
      "text/plain": [
       "<Figure size 640x480 with 1 Axes>"
      ]
     },
     "metadata": {},
     "output_type": "display_data"
    },
    {
     "data": {
      "image/png": "[encoded data removed]",
      "text/plain": [
       "<Figure size 640x480 with 1 Axes>"
      ]
     },
     "metadata": {},
     "output_type": "display_data"
    },
    {
     "data": {
      "image/png": "[encoded data removed]",
      "text/plain": [
       "<Figure size 640x480 with 1 Axes>"
      ]
     },
     "metadata": {},
     "output_type": "display_data"
    },
    {
     "data": {
      "image/png": "[encoded data removed]",
      "text/plain": [
       "<Figure size 640x480 with 1 Axes>"
      ]
     },
     "metadata": {},
     "output_type": "display_data"
    },
    {
     "data": {
      "image/png": "[encoded data removed]",
      "text/plain": [
       "<Figure size 640x480 with 1 Axes>"
      ]
     },
     "metadata": {},
     "output_type": "display_data"
    },
    {
     "data": {
      "image/png": "[encoded data removed]",
      "text/plain": [
       "<Figure size 640x480 with 1 Axes>"
      ]
     },
     "metadata": {},
     "output_type": "display_data"
    },
    {
     "data": {
      "image/png": "[encoded data removed]",
      "text/plain": [
       "<Figure size 640x480 with 1 Axes>"
      ]
     },
     "metadata": {},
     "output_type": "display_data"
    },
    {
     "data": {
      "image/png": "[encoded data removed]",
      "text/plain": [
       "<Figure size 640x480 with 1 Axes>"
      ]
     },
     "metadata": {},
     "output_type": "display_data"
    }
   ],
   "source": [
    "## Lets analyse the continuous values by creating histograms to understand the distribution\n",
    "\n",
    "for feature in continuous_feature:\n",
    "    data=dataset.copy()\n",
    "    data[feature].hist(bins=25)\n",
    "    plt.xlabel(feature)\n",
    "    plt.ylabel(\"Count\")\n",
    "    plt.title(feature)\n",
    "    plt.show()"
   ]
  },
  {
   "cell_type": "markdown",
   "id": "b0402b42",
   "metadata": {},
   "source": [
    "# Outliers"
   ]
  },
  {
   "cell_type": "code",
   "execution_count": 142,
   "id": "f91230f0",
   "metadata": {},
   "outputs": [
    {
     "data": {
      "image/png": "[encoded data removed]",
      "text/plain": [
       "<Figure size 640x480 with 1 Axes>"
      ]
     },
     "metadata": {},
     "output_type": "display_data"
    },
    {
     "data": {
      "image/png": "[encoded data removed]",
      "text/plain": [
       "<Figure size 640x480 with 1 Axes>"
      ]
     },
     "metadata": {},
     "output_type": "display_data"
    },
    {
     "data": {
      "image/png": "[encoded data removed]",
      "text/plain": [
       "<Figure size 640x480 with 1 Axes>"
      ]
     },
     "metadata": {},
     "output_type": "display_data"
    },
    {
     "data": {
      "image/png": "[encoded data removed]",
      "text/plain": [
       "<Figure size 640x480 with 1 Axes>"
      ]
     },
     "metadata": {},
     "output_type": "display_data"
    },
    {
     "data": {
      "image/png": "[encoded data removed]",
      "text/plain": [
       "<Figure size 640x480 with 1 Axes>"
      ]
     },
     "metadata": {},
     "output_type": "display_data"
    },
    {
     "data": {
      "image/png": "[encoded data removed]",
      "text/plain": [
       "<Figure size 640x480 with 1 Axes>"
      ]
     },
     "metadata": {},
     "output_type": "display_data"
    },
    {
     "data": {
      "image/png": "[encoded data removed]",
      "text/plain": [
       "<Figure size 640x480 with 1 Axes>"
      ]
     },
     "metadata": {},
     "output_type": "display_data"
    }
   ],
   "source": [
    "for feature in continuous_feature:\n",
    "    data=dataset.copy()\n",
    "    if 0 in data[feature].unique():\n",
    "        pass\n",
    "    else:\n",
    "        data[feature]=np.log(data[feature])\n",
    "        data.boxplot(column=feature)\n",
    "        plt.ylabel(feature)\n",
    "        plt.title(feature)\n",
    "        plt.show()\n",
    "        "
   ]
  },
  {
   "cell_type": "markdown",
   "id": "78e84cf1",
   "metadata": {},
   "source": [
    "## Categorical"
   ]
  },
  {
   "cell_type": "code",
   "execution_count": 143,
   "id": "b6454f14",
   "metadata": {},
   "outputs": [
    {
     "data": {
      "text/plain": [
       "['Type_of_AC', 'Room_SIze', 'Star_Rating', 'City', 'Input_Power']"
      ]
     },
     "execution_count": 143,
     "metadata": {},
     "output_type": "execute_result"
    }
   ],
   "source": [
    "categorical_features=[feature for feature in dataset.columns if data[feature].dtypes=='O']\n",
    "categorical_features"
   ]
  },
  {
   "cell_type": "code",
   "execution_count": 144,
   "id": "c35ab135",
   "metadata": {},
   "outputs": [
    {
     "data": {
      "text/html": [
       "<div>\n",
       "<style scoped>\n",
       "    .dataframe tbody tr th:only-of-type {\n",
       "        vertical-align: middle;\n",
       "    }\n",
       "\n",
       "    .dataframe tbody tr th {\n",
       "        vertical-align: top;\n",
       "    }\n",
       "\n",
       "    .dataframe thead th {\n",
       "        text-align: right;\n",
       "    }\n",
       "</style>\n",
       "<table border=\"1\" class=\"dataframe\">\n",
       "  <thead>\n",
       "    <tr style=\"text-align: right;\">\n",
       "      <th></th>\n",
       "      <th>Type_of_AC</th>\n",
       "      <th>Room_SIze</th>\n",
       "      <th>Star_Rating</th>\n",
       "      <th>City</th>\n",
       "      <th>Input_Power</th>\n",
       "    </tr>\n",
       "  </thead>\n",
       "  <tbody>\n",
       "    <tr>\n",
       "      <th>0</th>\n",
       "      <td>Split</td>\n",
       "      <td>1873.5</td>\n",
       "      <td>3.0</td>\n",
       "      <td>Cairo</td>\n",
       "      <td>2863.2952214614106</td>\n",
       "    </tr>\n",
       "    <tr>\n",
       "      <th>1</th>\n",
       "      <td>Window</td>\n",
       "      <td>1603.8000000000002</td>\n",
       "      <td>4.0</td>\n",
       "      <td>Bucharest</td>\n",
       "      <td>2783.3096980924593</td>\n",
       "    </tr>\n",
       "    <tr>\n",
       "      <th>2</th>\n",
       "      <td>Portable</td>\n",
       "      <td>4807.0</td>\n",
       "      <td>4.0</td>\n",
       "      <td>Berlin</td>\n",
       "      <td>2882.6064181342504</td>\n",
       "    </tr>\n",
       "    <tr>\n",
       "      <th>3</th>\n",
       "      <td>Window</td>\n",
       "      <td>1466.3999999999999</td>\n",
       "      <td>4.0</td>\n",
       "      <td>Cape Town</td>\n",
       "      <td>2607.0895663486162</td>\n",
       "    </tr>\n",
       "    <tr>\n",
       "      <th>4</th>\n",
       "      <td>Window</td>\n",
       "      <td>3139.4</td>\n",
       "      <td>5.0</td>\n",
       "      <td>Berlin</td>\n",
       "      <td>2681.3591611159786</td>\n",
       "    </tr>\n",
       "  </tbody>\n",
       "</table>\n",
       "</div>"
      ],
      "text/plain": [
       "  Type_of_AC           Room_SIze Star_Rating       City         Input_Power\n",
       "0      Split              1873.5         3.0      Cairo  2863.2952214614106\n",
       "1     Window  1603.8000000000002         4.0  Bucharest  2783.3096980924593\n",
       "2   Portable              4807.0         4.0     Berlin  2882.6064181342504\n",
       "3     Window  1466.3999999999999         4.0  Cape Town  2607.0895663486162\n",
       "4     Window              3139.4         5.0     Berlin  2681.3591611159786"
      ]
     },
     "execution_count": 144,
     "metadata": {},
     "output_type": "execute_result"
    }
   ],
   "source": [
    "data[categorical_features].head()\n"
   ]
  },
  {
   "cell_type": "markdown",
   "id": "12bc74b7",
   "metadata": {},
   "source": [
    "# Missing Values"
   ]
  },
  {
   "cell_type": "code",
   "execution_count": 145,
   "id": "fab7e97d",
   "metadata": {},
   "outputs": [],
   "source": [
    "from sklearn.impute import KNNImputer,SimpleImputer"
   ]
  },
  {
   "cell_type": "code",
   "execution_count": 146,
   "id": "2e753c04",
   "metadata": {},
   "outputs": [
    {
     "name": "stdout",
     "output_type": "stream",
     "text": [
      "<class 'pandas.core.frame.DataFrame'>\n",
      "RangeIndex: 15000 entries, 0 to 14999\n",
      "Data columns (total 15 columns):\n",
      " #   Column                      Non-Null Count  Dtype  \n",
      "---  ------                      --------------  -----  \n",
      " 0   ID                          15000 non-null  int64  \n",
      " 1   Type_of_AC                  15000 non-null  object \n",
      " 2   Model                       14130 non-null  float64\n",
      " 3   Cooling_Capacity            15000 non-null  float64\n",
      " 4   Avg_Temp                    15000 non-null  int64  \n",
      " 5   Room_SIze                   13987 non-null  object \n",
      " 6   Num_People                  15000 non-null  int64  \n",
      " 7   Star_Rating                 14103 non-null  object \n",
      " 8   Age_of_Unit                 14018 non-null  float64\n",
      " 9   Maintenance                 15000 non-null  int64  \n",
      " 10  Avg_Usage                   15000 non-null  float64\n",
      " 11  Avg_AC_Temp                 15000 non-null  float64\n",
      " 12  City                        13506 non-null  object \n",
      " 13  Input_Power                 14287 non-null  object \n",
      " 14  Electricity_Consumption_AC  15000 non-null  float64\n",
      "dtypes: float64(6), int64(4), object(5)\n",
      "memory usage: 1.7+ MB\n"
     ]
    }
   ],
   "source": [
    "data.info()"
   ]
  },
  {
   "cell_type": "code",
   "execution_count": 147,
   "id": "d8bc7e0f",
   "metadata": {},
   "outputs": [
    {
     "data": {
      "text/html": [
       "<div>\n",
       "<style scoped>\n",
       "    .dataframe tbody tr th:only-of-type {\n",
       "        vertical-align: middle;\n",
       "    }\n",
       "\n",
       "    .dataframe tbody tr th {\n",
       "        vertical-align: top;\n",
       "    }\n",
       "\n",
       "    .dataframe thead th {\n",
       "        text-align: right;\n",
       "    }\n",
       "</style>\n",
       "<table border=\"1\" class=\"dataframe\">\n",
       "  <thead>\n",
       "    <tr style=\"text-align: right;\">\n",
       "      <th></th>\n",
       "      <th>ID</th>\n",
       "      <th>Type_of_AC</th>\n",
       "      <th>Model</th>\n",
       "      <th>Cooling_Capacity</th>\n",
       "      <th>Avg_Temp</th>\n",
       "      <th>Room_SIze</th>\n",
       "      <th>Num_People</th>\n",
       "      <th>Star_Rating</th>\n",
       "      <th>Age_of_Unit</th>\n",
       "      <th>Maintenance</th>\n",
       "      <th>Avg_Usage</th>\n",
       "      <th>Avg_AC_Temp</th>\n",
       "      <th>City</th>\n",
       "      <th>Input_Power</th>\n",
       "      <th>Electricity_Consumption_AC</th>\n",
       "    </tr>\n",
       "  </thead>\n",
       "  <tbody>\n",
       "    <tr>\n",
       "      <th>0</th>\n",
       "      <td>795823</td>\n",
       "      <td>Split</td>\n",
       "      <td>1.5</td>\n",
       "      <td>6579.15</td>\n",
       "      <td>43</td>\n",
       "      <td>1873.5</td>\n",
       "      <td>3</td>\n",
       "      <td>3.0</td>\n",
       "      <td>5.0</td>\n",
       "      <td>0</td>\n",
       "      <td>1.720</td>\n",
       "      <td>31.333333</td>\n",
       "      <td>Cairo</td>\n",
       "      <td>2863.2952214614106</td>\n",
       "      <td>0.654406</td>\n",
       "    </tr>\n",
       "    <tr>\n",
       "      <th>1</th>\n",
       "      <td>506848</td>\n",
       "      <td>Window</td>\n",
       "      <td>1.1</td>\n",
       "      <td>6775.44</td>\n",
       "      <td>46</td>\n",
       "      <td>1603.8000000000002</td>\n",
       "      <td>4</td>\n",
       "      <td>4.0</td>\n",
       "      <td>1.0</td>\n",
       "      <td>0</td>\n",
       "      <td>18.000</td>\n",
       "      <td>29.500000</td>\n",
       "      <td>Bucharest</td>\n",
       "      <td>2783.3096980924593</td>\n",
       "      <td>0.293416</td>\n",
       "    </tr>\n",
       "    <tr>\n",
       "      <th>2</th>\n",
       "      <td>441027</td>\n",
       "      <td>Portable</td>\n",
       "      <td>3.8</td>\n",
       "      <td>6995.22</td>\n",
       "      <td>29</td>\n",
       "      <td>4807.0</td>\n",
       "      <td>38</td>\n",
       "      <td>4.0</td>\n",
       "      <td>1.0</td>\n",
       "      <td>0</td>\n",
       "      <td>0.551</td>\n",
       "      <td>13.763158</td>\n",
       "      <td>Berlin</td>\n",
       "      <td>2882.6064181342504</td>\n",
       "      <td>0.993992</td>\n",
       "    </tr>\n",
       "    <tr>\n",
       "      <th>3</th>\n",
       "      <td>160677</td>\n",
       "      <td>Window</td>\n",
       "      <td>1.2</td>\n",
       "      <td>1863.68</td>\n",
       "      <td>39</td>\n",
       "      <td>1466.3999999999999</td>\n",
       "      <td>10</td>\n",
       "      <td>4.0</td>\n",
       "      <td>0.0</td>\n",
       "      <td>0</td>\n",
       "      <td>19.540</td>\n",
       "      <td>22.900000</td>\n",
       "      <td>Cape Town</td>\n",
       "      <td>2607.0895663486162</td>\n",
       "      <td>0.432432</td>\n",
       "    </tr>\n",
       "    <tr>\n",
       "      <th>4</th>\n",
       "      <td>902932</td>\n",
       "      <td>Window</td>\n",
       "      <td>NaN</td>\n",
       "      <td>3089.04</td>\n",
       "      <td>40</td>\n",
       "      <td>3139.4</td>\n",
       "      <td>9</td>\n",
       "      <td>5.0</td>\n",
       "      <td>4.0</td>\n",
       "      <td>0</td>\n",
       "      <td>16.760</td>\n",
       "      <td>18.444444</td>\n",
       "      <td>Berlin</td>\n",
       "      <td>2681.3591611159786</td>\n",
       "      <td>0.780242</td>\n",
       "    </tr>\n",
       "    <tr>\n",
       "      <th>5</th>\n",
       "      <td>553568</td>\n",
       "      <td>Portable</td>\n",
       "      <td>2.2</td>\n",
       "      <td>6014.60</td>\n",
       "      <td>43</td>\n",
       "      <td>3113.0000000000005</td>\n",
       "      <td>6</td>\n",
       "      <td>4.0</td>\n",
       "      <td>6.0</td>\n",
       "      <td>1</td>\n",
       "      <td>17.286</td>\n",
       "      <td>18.166667</td>\n",
       "      <td>Moscow</td>\n",
       "      <td>2994.4946029176726</td>\n",
       "      <td>0.942738</td>\n",
       "    </tr>\n",
       "    <tr>\n",
       "      <th>6</th>\n",
       "      <td>575810</td>\n",
       "      <td>Ducted</td>\n",
       "      <td>1.8</td>\n",
       "      <td>1782.98</td>\n",
       "      <td>34</td>\n",
       "      <td>2527.2000000000003</td>\n",
       "      <td>17</td>\n",
       "      <td>5.0</td>\n",
       "      <td>5.0</td>\n",
       "      <td>0</td>\n",
       "      <td>2.516</td>\n",
       "      <td>14.000000</td>\n",
       "      <td>Delhi</td>\n",
       "      <td>2964.5337108869016</td>\n",
       "      <td>0.468753</td>\n",
       "    </tr>\n",
       "    <tr>\n",
       "      <th>7</th>\n",
       "      <td>820893</td>\n",
       "      <td>Ducted</td>\n",
       "      <td>2.5</td>\n",
       "      <td>2413.75</td>\n",
       "      <td>35</td>\n",
       "      <td>3100.0</td>\n",
       "      <td>24</td>\n",
       "      <td>5.0</td>\n",
       "      <td>3.0</td>\n",
       "      <td>0</td>\n",
       "      <td>11.970</td>\n",
       "      <td>14.458333</td>\n",
       "      <td>Sao Paolo</td>\n",
       "      <td>2637.2276224551442</td>\n",
       "      <td>0.527093</td>\n",
       "    </tr>\n",
       "    <tr>\n",
       "      <th>8</th>\n",
       "      <td>560651</td>\n",
       "      <td>Ducted</td>\n",
       "      <td>1.3</td>\n",
       "      <td>7543.88</td>\n",
       "      <td>38</td>\n",
       "      <td>1818.7</td>\n",
       "      <td>9</td>\n",
       "      <td>1.0</td>\n",
       "      <td>6.0</td>\n",
       "      <td>0</td>\n",
       "      <td>12.738</td>\n",
       "      <td>17.222222</td>\n",
       "      <td>Berlin</td>\n",
       "      <td>2719.611325792581</td>\n",
       "      <td>0.817575</td>\n",
       "    </tr>\n",
       "    <tr>\n",
       "      <th>9</th>\n",
       "      <td>475468</td>\n",
       "      <td>Split</td>\n",
       "      <td>3.4</td>\n",
       "      <td>6732.16</td>\n",
       "      <td>34</td>\n",
       "      <td>4331.599999999999</td>\n",
       "      <td>30</td>\n",
       "      <td>3.0</td>\n",
       "      <td>3.0</td>\n",
       "      <td>0</td>\n",
       "      <td>18.768</td>\n",
       "      <td>17.133333</td>\n",
       "      <td>New York</td>\n",
       "      <td>2986.4383664448396</td>\n",
       "      <td>0.873383</td>\n",
       "    </tr>\n",
       "  </tbody>\n",
       "</table>\n",
       "</div>"
      ],
      "text/plain": [
       "       ID Type_of_AC  Model  Cooling_Capacity  Avg_Temp           Room_SIze  \\\n",
       "0  795823      Split    1.5           6579.15        43              1873.5   \n",
       "1  506848     Window    1.1           6775.44        46  1603.8000000000002   \n",
       "2  441027   Portable    3.8           6995.22        29              4807.0   \n",
       "3  160677     Window    1.2           1863.68        39  1466.3999999999999   \n",
       "4  902932     Window    NaN           3089.04        40              3139.4   \n",
       "5  553568   Portable    2.2           6014.60        43  3113.0000000000005   \n",
       "6  575810     Ducted    1.8           1782.98        34  2527.2000000000003   \n",
       "7  820893     Ducted    2.5           2413.75        35              3100.0   \n",
       "8  560651     Ducted    1.3           7543.88        38              1818.7   \n",
       "9  475468      Split    3.4           6732.16        34   4331.599999999999   \n",
       "\n",
       "   Num_People Star_Rating  Age_of_Unit  Maintenance  Avg_Usage  Avg_AC_Temp  \\\n",
       "0           3         3.0          5.0            0      1.720    31.333333   \n",
       "1           4         4.0          1.0            0     18.000    29.500000   \n",
       "2          38         4.0          1.0            0      0.551    13.763158   \n",
       "3          10         4.0          0.0            0     19.540    22.900000   \n",
       "4           9         5.0          4.0            0     16.760    18.444444   \n",
       "5           6         4.0          6.0            1     17.286    18.166667   \n",
       "6          17         5.0          5.0            0      2.516    14.000000   \n",
       "7          24         5.0          3.0            0     11.970    14.458333   \n",
       "8           9         1.0          6.0            0     12.738    17.222222   \n",
       "9          30         3.0          3.0            0     18.768    17.133333   \n",
       "\n",
       "        City         Input_Power  Electricity_Consumption_AC  \n",
       "0      Cairo  2863.2952214614106                    0.654406  \n",
       "1  Bucharest  2783.3096980924593                    0.293416  \n",
       "2     Berlin  2882.6064181342504                    0.993992  \n",
       "3  Cape Town  2607.0895663486162                    0.432432  \n",
       "4     Berlin  2681.3591611159786                    0.780242  \n",
       "5     Moscow  2994.4946029176726                    0.942738  \n",
       "6      Delhi  2964.5337108869016                    0.468753  \n",
       "7  Sao Paolo  2637.2276224551442                    0.527093  \n",
       "8     Berlin   2719.611325792581                    0.817575  \n",
       "9   New York  2986.4383664448396                    0.873383  "
      ]
     },
     "execution_count": 147,
     "metadata": {},
     "output_type": "execute_result"
    }
   ],
   "source": [
    "data.head(10)"
   ]
  },
  {
   "cell_type": "code",
   "execution_count": 148,
   "id": "a494f50a",
   "metadata": {},
   "outputs": [
    {
     "data": {
      "text/plain": [
       "Portable    3786\n",
       "Ducted      3779\n",
       "Window      3733\n",
       "Split       3702\n",
       "Name: Type_of_AC, dtype: int64"
      ]
     },
     "execution_count": 148,
     "metadata": {},
     "output_type": "execute_result"
    }
   ],
   "source": [
    "data[ 'Type_of_AC'].value_counts()\n"
   ]
  },
  {
   "cell_type": "code",
   "execution_count": 149,
   "id": "5c7269a3",
   "metadata": {},
   "outputs": [
    {
     "data": {
      "text/plain": [
       "Berlin       1910\n",
       "Sao Paolo    1802\n",
       "Moscow       1546\n",
       "Mumbai       1238\n",
       "Bucharest    1184\n",
       "Tokyo        1086\n",
       "Delhi         997\n",
       "Geneva        757\n",
       "Cape Town     740\n",
       "Seoul         736\n",
       "New York      725\n",
       "Cairo         558\n",
       "Prague        198\n",
       "__              7\n",
       "?               5\n",
       "-10e9           5\n",
       "$$              4\n",
       ".               4\n",
       "blank           3\n",
       "1k              1\n",
       "Name: City, dtype: int64"
      ]
     },
     "execution_count": 149,
     "metadata": {},
     "output_type": "execute_result"
    }
   ],
   "source": [
    "data[ 'City'].value_counts()"
   ]
  },
  {
   "cell_type": "code",
   "execution_count": 150,
   "id": "2eb57d94",
   "metadata": {},
   "outputs": [
    {
     "data": {
      "text/plain": [
       "blank                 4\n",
       ".                     3\n",
       "-10e9                 3\n",
       "2775.185706792389     2\n",
       "?                     2\n",
       "                     ..\n",
       "2871.271919993388     1\n",
       "2703.373783784543     1\n",
       "2653.3504169386447    1\n",
       "2796.0819654777365    1\n",
       "3267.6594424896157    1\n",
       "Name: Input_Power, Length: 14277, dtype: int64"
      ]
     },
     "execution_count": 150,
     "metadata": {},
     "output_type": "execute_result"
    }
   ],
   "source": [
    "data[ 'Input_Power'].value_counts()"
   ]
  },
  {
   "cell_type": "code",
   "execution_count": 151,
   "id": "42b7cb55",
   "metadata": {},
   "outputs": [],
   "source": [
    "\n",
    "\n",
    "# Define the list of values you want to drop\n",
    "values_to_drop = ['?','$$', '__', '.', 'blank', '-10e9','1k','-1.00E+10']\n",
    "\n",
    "# Filter and drop rows containing these values in any column\n",
    "data = data[~data.isin(values_to_drop).any(axis=1)]\n",
    "\n",
    "# Reset the index after dropping rows\n",
    "data = data.reset_index(drop=True)\n"
   ]
  },
  {
   "cell_type": "code",
   "execution_count": null,
   "id": "43a5f484",
   "metadata": {},
   "outputs": [],
   "source": [
    "\n"
   ]
  },
  {
   "cell_type": "code",
   "execution_count": 152,
   "id": "cc9c003e",
   "metadata": {},
   "outputs": [
    {
     "name": "stdout",
     "output_type": "stream",
     "text": [
      "<class 'pandas.core.frame.DataFrame'>\n",
      "RangeIndex: 14917 entries, 0 to 14916\n",
      "Data columns (total 15 columns):\n",
      " #   Column                      Non-Null Count  Dtype  \n",
      "---  ------                      --------------  -----  \n",
      " 0   ID                          14917 non-null  int64  \n",
      " 1   Type_of_AC                  14917 non-null  object \n",
      " 2   Model                       14050 non-null  float64\n",
      " 3   Cooling_Capacity            14917 non-null  float64\n",
      " 4   Avg_Temp                    14917 non-null  int64  \n",
      " 5   Room_SIze                   13908 non-null  object \n",
      " 6   Num_People                  14917 non-null  int64  \n",
      " 7   Star_Rating                 14021 non-null  object \n",
      " 8   Age_of_Unit                 13942 non-null  float64\n",
      " 9   Maintenance                 14917 non-null  int64  \n",
      " 10  Avg_Usage                   14917 non-null  float64\n",
      " 11  Avg_AC_Temp                 14917 non-null  float64\n",
      " 12  City                        13430 non-null  object \n",
      " 13  Input_Power                 14208 non-null  object \n",
      " 14  Electricity_Consumption_AC  14917 non-null  float64\n",
      "dtypes: float64(6), int64(4), object(5)\n",
      "memory usage: 1.7+ MB\n"
     ]
    }
   ],
   "source": [
    "data.info()"
   ]
  },
  {
   "cell_type": "code",
   "execution_count": 153,
   "id": "6b073a84",
   "metadata": {},
   "outputs": [],
   "source": [
    "data['Room_SIze'] = data['Room_SIze'].astype('float')"
   ]
  },
  {
   "cell_type": "code",
   "execution_count": 154,
   "id": "38b78ffd",
   "metadata": {},
   "outputs": [],
   "source": [
    "data['Star_Rating'] = data['Star_Rating'].astype('float')\n",
    "data['Input_Power'] = data['Input_Power'].astype('float')"
   ]
  },
  {
   "cell_type": "code",
   "execution_count": 155,
   "id": "40705f86",
   "metadata": {},
   "outputs": [
    {
     "name": "stdout",
     "output_type": "stream",
     "text": [
      "<class 'pandas.core.frame.DataFrame'>\n",
      "RangeIndex: 14917 entries, 0 to 14916\n",
      "Data columns (total 15 columns):\n",
      " #   Column                      Non-Null Count  Dtype  \n",
      "---  ------                      --------------  -----  \n",
      " 0   ID                          14917 non-null  int64  \n",
      " 1   Type_of_AC                  14917 non-null  object \n",
      " 2   Model                       14050 non-null  float64\n",
      " 3   Cooling_Capacity            14917 non-null  float64\n",
      " 4   Avg_Temp                    14917 non-null  int64  \n",
      " 5   Room_SIze                   13908 non-null  float64\n",
      " 6   Num_People                  14917 non-null  int64  \n",
      " 7   Star_Rating                 14021 non-null  float64\n",
      " 8   Age_of_Unit                 13942 non-null  float64\n",
      " 9   Maintenance                 14917 non-null  int64  \n",
      " 10  Avg_Usage                   14917 non-null  float64\n",
      " 11  Avg_AC_Temp                 14917 non-null  float64\n",
      " 12  City                        13430 non-null  object \n",
      " 13  Input_Power                 14208 non-null  float64\n",
      " 14  Electricity_Consumption_AC  14917 non-null  float64\n",
      "dtypes: float64(9), int64(4), object(2)\n",
      "memory usage: 1.7+ MB\n"
     ]
    }
   ],
   "source": [
    "data.info()"
   ]
  },
  {
   "cell_type": "code",
   "execution_count": 156,
   "id": "c42d707c",
   "metadata": {},
   "outputs": [
    {
     "name": "stdout",
     "output_type": "stream",
     "text": [
      "City: 0.0997% missing values\n"
     ]
    }
   ],
   "source": [
    "## Let us capture all the nan values\n",
    "## First lets handle Categorical features which are missing\n",
    "features_nan=[feature for feature in data.columns if data[feature].isnull().sum()>1 and data[feature].dtypes=='O']\n",
    "\n",
    "for feature in features_nan:\n",
    "    print(\"{}: {}% missing values\".format(feature,np.round(data[feature].isnull().mean(),4)))"
   ]
  },
  {
   "cell_type": "code",
   "execution_count": 157,
   "id": "47c9109c",
   "metadata": {},
   "outputs": [
    {
     "data": {
      "text/plain": [
       "City    0\n",
       "dtype: int64"
      ]
     },
     "execution_count": 157,
     "metadata": {},
     "output_type": "execute_result"
    }
   ],
   "source": [
    "## Replace missing value with a new label\n",
    "def replace_cat_feature(data,features_nan):\n",
    "   \n",
    "    data[features_nan]=data[features_nan].fillna('Missing')\n",
    "    return data\n",
    "\n",
    "data=replace_cat_feature(data,features_nan)\n",
    "\n",
    "data[features_nan].isnull().sum()"
   ]
  },
  {
   "cell_type": "code",
   "execution_count": 158,
   "id": "ab4987cf",
   "metadata": {},
   "outputs": [
    {
     "name": "stdout",
     "output_type": "stream",
     "text": [
      "Model: 0.0581% missing value\n",
      "Room_SIze: 0.0676% missing value\n",
      "Star_Rating: 0.0601% missing value\n",
      "Age_of_Unit: 0.0654% missing value\n",
      "Input_Power: 0.0475% missing value\n"
     ]
    }
   ],
   "source": [
    "## Now lets check for numerical variables the contains missing values\n",
    "numerical_with_nan=[feature for feature in data.columns if data[feature].isnull().sum()>1 and data[feature].dtypes!='O']\n",
    "\n",
    "## We will print the numerical nan variables and percentage of missing values\n",
    "\n",
    "for feature in numerical_with_nan:\n",
    "    print(\"{}: {}% missing value\".format(feature,np.around(data[feature].isnull().mean(),4)))"
   ]
  },
  {
   "cell_type": "code",
   "execution_count": 159,
   "id": "e55c4e86",
   "metadata": {},
   "outputs": [
    {
     "data": {
      "text/plain": [
       "Model          0\n",
       "Room_SIze      0\n",
       "Star_Rating    0\n",
       "Age_of_Unit    0\n",
       "Input_Power    0\n",
       "dtype: int64"
      ]
     },
     "execution_count": 159,
     "metadata": {},
     "output_type": "execute_result"
    }
   ],
   "source": [
    "## Replacing the numerical Missing Values\n",
    "\n",
    "for feature in numerical_with_nan:\n",
    "    ## We will replace by using median since there are outliers\n",
    "    median_value=data[feature].median()\n",
    "    \n",
    "    ## create a new feature to capture nan values\n",
    "    data[feature+'nan']=np.where(data[feature].isnull(),1,0)\n",
    "    data[feature].fillna(median_value,inplace=True)\n",
    "    \n",
    "data[numerical_with_nan].isnull().sum()\n",
    "    \n",
    "    "
   ]
  },
  {
   "cell_type": "code",
   "execution_count": 160,
   "id": "731e6c16",
   "metadata": {},
   "outputs": [
    {
     "name": "stdout",
     "output_type": "stream",
     "text": [
      "<class 'pandas.core.frame.DataFrame'>\n",
      "RangeIndex: 14917 entries, 0 to 14916\n",
      "Data columns (total 20 columns):\n",
      " #   Column                      Non-Null Count  Dtype  \n",
      "---  ------                      --------------  -----  \n",
      " 0   ID                          14917 non-null  int64  \n",
      " 1   Type_of_AC                  14917 non-null  object \n",
      " 2   Model                       14917 non-null  float64\n",
      " 3   Cooling_Capacity            14917 non-null  float64\n",
      " 4   Avg_Temp                    14917 non-null  int64  \n",
      " 5   Room_SIze                   14917 non-null  float64\n",
      " 6   Num_People                  14917 non-null  int64  \n",
      " 7   Star_Rating                 14917 non-null  float64\n",
      " 8   Age_of_Unit                 14917 non-null  float64\n",
      " 9   Maintenance                 14917 non-null  int64  \n",
      " 10  Avg_Usage                   14917 non-null  float64\n",
      " 11  Avg_AC_Temp                 14917 non-null  float64\n",
      " 12  City                        14917 non-null  object \n",
      " 13  Input_Power                 14917 non-null  float64\n",
      " 14  Electricity_Consumption_AC  14917 non-null  float64\n",
      " 15  Modelnan                    14917 non-null  int32  \n",
      " 16  Room_SIzenan                14917 non-null  int32  \n",
      " 17  Star_Ratingnan              14917 non-null  int32  \n",
      " 18  Age_of_Unitnan              14917 non-null  int32  \n",
      " 19  Input_Powernan              14917 non-null  int32  \n",
      "dtypes: float64(9), int32(5), int64(4), object(2)\n",
      "memory usage: 2.0+ MB\n"
     ]
    }
   ],
   "source": [
    "data.info()"
   ]
  },
  {
   "cell_type": "markdown",
   "id": "258427d5",
   "metadata": {},
   "source": [
    "# Handling Categorical Feature"
   ]
  },
  {
   "cell_type": "code",
   "execution_count": 161,
   "id": "efb76be5",
   "metadata": {},
   "outputs": [],
   "source": [
    "categorical_features=[feature for feature in data.columns if data[feature].dtype=='O']"
   ]
  },
  {
   "cell_type": "code",
   "execution_count": 162,
   "id": "0f37b55d",
   "metadata": {},
   "outputs": [
    {
     "data": {
      "text/plain": [
       "['Type_of_AC', 'City']"
      ]
     },
     "execution_count": 162,
     "metadata": {},
     "output_type": "execute_result"
    }
   ],
   "source": [
    "categorical_features"
   ]
  },
  {
   "cell_type": "code",
   "execution_count": 163,
   "id": "bec2ec0a",
   "metadata": {},
   "outputs": [
    {
     "data": {
      "text/html": [
       "<div>\n",
       "<style scoped>\n",
       "    .dataframe tbody tr th:only-of-type {\n",
       "        vertical-align: middle;\n",
       "    }\n",
       "\n",
       "    .dataframe tbody tr th {\n",
       "        vertical-align: top;\n",
       "    }\n",
       "\n",
       "    .dataframe thead th {\n",
       "        text-align: right;\n",
       "    }\n",
       "</style>\n",
       "<table border=\"1\" class=\"dataframe\">\n",
       "  <thead>\n",
       "    <tr style=\"text-align: right;\">\n",
       "      <th></th>\n",
       "      <th>ID</th>\n",
       "      <th>Type_of_AC</th>\n",
       "      <th>Model</th>\n",
       "      <th>Cooling_Capacity</th>\n",
       "      <th>Avg_Temp</th>\n",
       "      <th>Room_SIze</th>\n",
       "      <th>Num_People</th>\n",
       "      <th>Star_Rating</th>\n",
       "      <th>Age_of_Unit</th>\n",
       "      <th>Maintenance</th>\n",
       "      <th>Avg_Usage</th>\n",
       "      <th>Avg_AC_Temp</th>\n",
       "      <th>City</th>\n",
       "      <th>Input_Power</th>\n",
       "      <th>Electricity_Consumption_AC</th>\n",
       "      <th>Modelnan</th>\n",
       "      <th>Room_SIzenan</th>\n",
       "      <th>Star_Ratingnan</th>\n",
       "      <th>Age_of_Unitnan</th>\n",
       "      <th>Input_Powernan</th>\n",
       "    </tr>\n",
       "  </thead>\n",
       "  <tbody>\n",
       "    <tr>\n",
       "      <th>0</th>\n",
       "      <td>795823</td>\n",
       "      <td>Split</td>\n",
       "      <td>1.5</td>\n",
       "      <td>6579.15</td>\n",
       "      <td>43</td>\n",
       "      <td>1873.5</td>\n",
       "      <td>3</td>\n",
       "      <td>3.0</td>\n",
       "      <td>5.0</td>\n",
       "      <td>0</td>\n",
       "      <td>1.720</td>\n",
       "      <td>31.333333</td>\n",
       "      <td>Cairo</td>\n",
       "      <td>2863.295221</td>\n",
       "      <td>0.654406</td>\n",
       "      <td>0</td>\n",
       "      <td>0</td>\n",
       "      <td>0</td>\n",
       "      <td>0</td>\n",
       "      <td>0</td>\n",
       "    </tr>\n",
       "    <tr>\n",
       "      <th>1</th>\n",
       "      <td>506848</td>\n",
       "      <td>Window</td>\n",
       "      <td>1.1</td>\n",
       "      <td>6775.44</td>\n",
       "      <td>46</td>\n",
       "      <td>1603.8</td>\n",
       "      <td>4</td>\n",
       "      <td>4.0</td>\n",
       "      <td>1.0</td>\n",
       "      <td>0</td>\n",
       "      <td>18.000</td>\n",
       "      <td>29.500000</td>\n",
       "      <td>Bucharest</td>\n",
       "      <td>2783.309698</td>\n",
       "      <td>0.293416</td>\n",
       "      <td>0</td>\n",
       "      <td>0</td>\n",
       "      <td>0</td>\n",
       "      <td>0</td>\n",
       "      <td>0</td>\n",
       "    </tr>\n",
       "    <tr>\n",
       "      <th>2</th>\n",
       "      <td>441027</td>\n",
       "      <td>Portable</td>\n",
       "      <td>3.8</td>\n",
       "      <td>6995.22</td>\n",
       "      <td>29</td>\n",
       "      <td>4807.0</td>\n",
       "      <td>38</td>\n",
       "      <td>4.0</td>\n",
       "      <td>1.0</td>\n",
       "      <td>0</td>\n",
       "      <td>0.551</td>\n",
       "      <td>13.763158</td>\n",
       "      <td>Berlin</td>\n",
       "      <td>2882.606418</td>\n",
       "      <td>0.993992</td>\n",
       "      <td>0</td>\n",
       "      <td>0</td>\n",
       "      <td>0</td>\n",
       "      <td>0</td>\n",
       "      <td>0</td>\n",
       "    </tr>\n",
       "    <tr>\n",
       "      <th>3</th>\n",
       "      <td>160677</td>\n",
       "      <td>Window</td>\n",
       "      <td>1.2</td>\n",
       "      <td>1863.68</td>\n",
       "      <td>39</td>\n",
       "      <td>1466.4</td>\n",
       "      <td>10</td>\n",
       "      <td>4.0</td>\n",
       "      <td>0.0</td>\n",
       "      <td>0</td>\n",
       "      <td>19.540</td>\n",
       "      <td>22.900000</td>\n",
       "      <td>Cape Town</td>\n",
       "      <td>2607.089566</td>\n",
       "      <td>0.432432</td>\n",
       "      <td>0</td>\n",
       "      <td>0</td>\n",
       "      <td>0</td>\n",
       "      <td>0</td>\n",
       "      <td>0</td>\n",
       "    </tr>\n",
       "    <tr>\n",
       "      <th>4</th>\n",
       "      <td>902932</td>\n",
       "      <td>Window</td>\n",
       "      <td>2.5</td>\n",
       "      <td>3089.04</td>\n",
       "      <td>40</td>\n",
       "      <td>3139.4</td>\n",
       "      <td>9</td>\n",
       "      <td>5.0</td>\n",
       "      <td>4.0</td>\n",
       "      <td>0</td>\n",
       "      <td>16.760</td>\n",
       "      <td>18.444444</td>\n",
       "      <td>Berlin</td>\n",
       "      <td>2681.359161</td>\n",
       "      <td>0.780242</td>\n",
       "      <td>1</td>\n",
       "      <td>0</td>\n",
       "      <td>0</td>\n",
       "      <td>0</td>\n",
       "      <td>0</td>\n",
       "    </tr>\n",
       "    <tr>\n",
       "      <th>5</th>\n",
       "      <td>553568</td>\n",
       "      <td>Portable</td>\n",
       "      <td>2.2</td>\n",
       "      <td>6014.60</td>\n",
       "      <td>43</td>\n",
       "      <td>3113.0</td>\n",
       "      <td>6</td>\n",
       "      <td>4.0</td>\n",
       "      <td>6.0</td>\n",
       "      <td>1</td>\n",
       "      <td>17.286</td>\n",
       "      <td>18.166667</td>\n",
       "      <td>Moscow</td>\n",
       "      <td>2994.494603</td>\n",
       "      <td>0.942738</td>\n",
       "      <td>0</td>\n",
       "      <td>0</td>\n",
       "      <td>0</td>\n",
       "      <td>0</td>\n",
       "      <td>0</td>\n",
       "    </tr>\n",
       "    <tr>\n",
       "      <th>6</th>\n",
       "      <td>575810</td>\n",
       "      <td>Ducted</td>\n",
       "      <td>1.8</td>\n",
       "      <td>1782.98</td>\n",
       "      <td>34</td>\n",
       "      <td>2527.2</td>\n",
       "      <td>17</td>\n",
       "      <td>5.0</td>\n",
       "      <td>5.0</td>\n",
       "      <td>0</td>\n",
       "      <td>2.516</td>\n",
       "      <td>14.000000</td>\n",
       "      <td>Delhi</td>\n",
       "      <td>2964.533711</td>\n",
       "      <td>0.468753</td>\n",
       "      <td>0</td>\n",
       "      <td>0</td>\n",
       "      <td>0</td>\n",
       "      <td>0</td>\n",
       "      <td>0</td>\n",
       "    </tr>\n",
       "    <tr>\n",
       "      <th>7</th>\n",
       "      <td>820893</td>\n",
       "      <td>Ducted</td>\n",
       "      <td>2.5</td>\n",
       "      <td>2413.75</td>\n",
       "      <td>35</td>\n",
       "      <td>3100.0</td>\n",
       "      <td>24</td>\n",
       "      <td>5.0</td>\n",
       "      <td>3.0</td>\n",
       "      <td>0</td>\n",
       "      <td>11.970</td>\n",
       "      <td>14.458333</td>\n",
       "      <td>Sao Paolo</td>\n",
       "      <td>2637.227622</td>\n",
       "      <td>0.527093</td>\n",
       "      <td>0</td>\n",
       "      <td>0</td>\n",
       "      <td>0</td>\n",
       "      <td>0</td>\n",
       "      <td>0</td>\n",
       "    </tr>\n",
       "    <tr>\n",
       "      <th>8</th>\n",
       "      <td>560651</td>\n",
       "      <td>Ducted</td>\n",
       "      <td>1.3</td>\n",
       "      <td>7543.88</td>\n",
       "      <td>38</td>\n",
       "      <td>1818.7</td>\n",
       "      <td>9</td>\n",
       "      <td>1.0</td>\n",
       "      <td>6.0</td>\n",
       "      <td>0</td>\n",
       "      <td>12.738</td>\n",
       "      <td>17.222222</td>\n",
       "      <td>Berlin</td>\n",
       "      <td>2719.611326</td>\n",
       "      <td>0.817575</td>\n",
       "      <td>0</td>\n",
       "      <td>0</td>\n",
       "      <td>0</td>\n",
       "      <td>0</td>\n",
       "      <td>0</td>\n",
       "    </tr>\n",
       "    <tr>\n",
       "      <th>9</th>\n",
       "      <td>475468</td>\n",
       "      <td>Split</td>\n",
       "      <td>3.4</td>\n",
       "      <td>6732.16</td>\n",
       "      <td>34</td>\n",
       "      <td>4331.6</td>\n",
       "      <td>30</td>\n",
       "      <td>3.0</td>\n",
       "      <td>3.0</td>\n",
       "      <td>0</td>\n",
       "      <td>18.768</td>\n",
       "      <td>17.133333</td>\n",
       "      <td>New York</td>\n",
       "      <td>2986.438366</td>\n",
       "      <td>0.873383</td>\n",
       "      <td>0</td>\n",
       "      <td>0</td>\n",
       "      <td>0</td>\n",
       "      <td>0</td>\n",
       "      <td>0</td>\n",
       "    </tr>\n",
       "    <tr>\n",
       "      <th>10</th>\n",
       "      <td>773019</td>\n",
       "      <td>Window</td>\n",
       "      <td>2.5</td>\n",
       "      <td>4401.25</td>\n",
       "      <td>29</td>\n",
       "      <td>3680.0</td>\n",
       "      <td>7</td>\n",
       "      <td>4.0</td>\n",
       "      <td>2.0</td>\n",
       "      <td>0</td>\n",
       "      <td>7.917</td>\n",
       "      <td>14.142857</td>\n",
       "      <td>Sao Paolo</td>\n",
       "      <td>2743.298474</td>\n",
       "      <td>0.679555</td>\n",
       "      <td>0</td>\n",
       "      <td>0</td>\n",
       "      <td>0</td>\n",
       "      <td>0</td>\n",
       "      <td>0</td>\n",
       "    </tr>\n",
       "    <tr>\n",
       "      <th>11</th>\n",
       "      <td>801600</td>\n",
       "      <td>Ducted</td>\n",
       "      <td>3.7</td>\n",
       "      <td>3151.00</td>\n",
       "      <td>38</td>\n",
       "      <td>4628.7</td>\n",
       "      <td>32</td>\n",
       "      <td>4.0</td>\n",
       "      <td>3.0</td>\n",
       "      <td>0</td>\n",
       "      <td>6.726</td>\n",
       "      <td>20.187500</td>\n",
       "      <td>Geneva</td>\n",
       "      <td>2682.989859</td>\n",
       "      <td>0.825928</td>\n",
       "      <td>0</td>\n",
       "      <td>0</td>\n",
       "      <td>0</td>\n",
       "      <td>0</td>\n",
       "      <td>0</td>\n",
       "    </tr>\n",
       "    <tr>\n",
       "      <th>12</th>\n",
       "      <td>597071</td>\n",
       "      <td>Portable</td>\n",
       "      <td>3.1</td>\n",
       "      <td>6453.06</td>\n",
       "      <td>33</td>\n",
       "      <td>4154.0</td>\n",
       "      <td>29</td>\n",
       "      <td>5.0</td>\n",
       "      <td>4.0</td>\n",
       "      <td>0</td>\n",
       "      <td>19.767</td>\n",
       "      <td>16.137931</td>\n",
       "      <td>Berlin</td>\n",
       "      <td>3162.371290</td>\n",
       "      <td>0.992511</td>\n",
       "      <td>0</td>\n",
       "      <td>0</td>\n",
       "      <td>0</td>\n",
       "      <td>0</td>\n",
       "      <td>0</td>\n",
       "    </tr>\n",
       "    <tr>\n",
       "      <th>13</th>\n",
       "      <td>625099</td>\n",
       "      <td>Portable</td>\n",
       "      <td>1.2</td>\n",
       "      <td>11267.20</td>\n",
       "      <td>38</td>\n",
       "      <td>1467.6</td>\n",
       "      <td>4</td>\n",
       "      <td>5.0</td>\n",
       "      <td>2.0</td>\n",
       "      <td>0</td>\n",
       "      <td>14.144</td>\n",
       "      <td>20.500000</td>\n",
       "      <td>Moscow</td>\n",
       "      <td>2838.138834</td>\n",
       "      <td>0.322808</td>\n",
       "      <td>0</td>\n",
       "      <td>0</td>\n",
       "      <td>0</td>\n",
       "      <td>0</td>\n",
       "      <td>0</td>\n",
       "    </tr>\n",
       "    <tr>\n",
       "      <th>14</th>\n",
       "      <td>788506</td>\n",
       "      <td>Ducted</td>\n",
       "      <td>10.8</td>\n",
       "      <td>5974.08</td>\n",
       "      <td>35</td>\n",
       "      <td>3642.3</td>\n",
       "      <td>7</td>\n",
       "      <td>3.0</td>\n",
       "      <td>2.0</td>\n",
       "      <td>0</td>\n",
       "      <td>4.130</td>\n",
       "      <td>21.000000</td>\n",
       "      <td>Bucharest</td>\n",
       "      <td>2942.542645</td>\n",
       "      <td>0.794801</td>\n",
       "      <td>0</td>\n",
       "      <td>0</td>\n",
       "      <td>0</td>\n",
       "      <td>0</td>\n",
       "      <td>0</td>\n",
       "    </tr>\n",
       "    <tr>\n",
       "      <th>15</th>\n",
       "      <td>308559</td>\n",
       "      <td>Split</td>\n",
       "      <td>3.9</td>\n",
       "      <td>8149.57</td>\n",
       "      <td>43</td>\n",
       "      <td>5358.6</td>\n",
       "      <td>21</td>\n",
       "      <td>4.0</td>\n",
       "      <td>5.0</td>\n",
       "      <td>0</td>\n",
       "      <td>16.000</td>\n",
       "      <td>17.047619</td>\n",
       "      <td>Delhi</td>\n",
       "      <td>3026.469106</td>\n",
       "      <td>1.022451</td>\n",
       "      <td>0</td>\n",
       "      <td>0</td>\n",
       "      <td>0</td>\n",
       "      <td>0</td>\n",
       "      <td>0</td>\n",
       "    </tr>\n",
       "    <tr>\n",
       "      <th>16</th>\n",
       "      <td>147406</td>\n",
       "      <td>Ducted</td>\n",
       "      <td>1.3</td>\n",
       "      <td>4468.02</td>\n",
       "      <td>37</td>\n",
       "      <td>1801.8</td>\n",
       "      <td>3</td>\n",
       "      <td>4.0</td>\n",
       "      <td>5.0</td>\n",
       "      <td>0</td>\n",
       "      <td>16.206</td>\n",
       "      <td>24.333333</td>\n",
       "      <td>Delhi</td>\n",
       "      <td>3124.819334</td>\n",
       "      <td>0.678034</td>\n",
       "      <td>0</td>\n",
       "      <td>0</td>\n",
       "      <td>0</td>\n",
       "      <td>0</td>\n",
       "      <td>0</td>\n",
       "    </tr>\n",
       "    <tr>\n",
       "      <th>17</th>\n",
       "      <td>892059</td>\n",
       "      <td>Ducted</td>\n",
       "      <td>2.3</td>\n",
       "      <td>2870.82</td>\n",
       "      <td>40</td>\n",
       "      <td>2868.1</td>\n",
       "      <td>20</td>\n",
       "      <td>4.0</td>\n",
       "      <td>6.0</td>\n",
       "      <td>0</td>\n",
       "      <td>16.920</td>\n",
       "      <td>13.000000</td>\n",
       "      <td>Mumbai</td>\n",
       "      <td>3038.393527</td>\n",
       "      <td>0.634988</td>\n",
       "      <td>0</td>\n",
       "      <td>0</td>\n",
       "      <td>1</td>\n",
       "      <td>0</td>\n",
       "      <td>0</td>\n",
       "    </tr>\n",
       "    <tr>\n",
       "      <th>18</th>\n",
       "      <td>489042</td>\n",
       "      <td>Window</td>\n",
       "      <td>1.6</td>\n",
       "      <td>5631.80</td>\n",
       "      <td>35</td>\n",
       "      <td>2337.6</td>\n",
       "      <td>18</td>\n",
       "      <td>5.0</td>\n",
       "      <td>0.0</td>\n",
       "      <td>1</td>\n",
       "      <td>13.195</td>\n",
       "      <td>12.944444</td>\n",
       "      <td>Missing</td>\n",
       "      <td>2879.891856</td>\n",
       "      <td>0.597737</td>\n",
       "      <td>0</td>\n",
       "      <td>0</td>\n",
       "      <td>0</td>\n",
       "      <td>0</td>\n",
       "      <td>0</td>\n",
       "    </tr>\n",
       "    <tr>\n",
       "      <th>19</th>\n",
       "      <td>201419</td>\n",
       "      <td>Portable</td>\n",
       "      <td>15.6</td>\n",
       "      <td>1727.77</td>\n",
       "      <td>37</td>\n",
       "      <td>5775.9</td>\n",
       "      <td>11</td>\n",
       "      <td>4.0</td>\n",
       "      <td>3.0</td>\n",
       "      <td>0</td>\n",
       "      <td>17.000</td>\n",
       "      <td>16.363636</td>\n",
       "      <td>Cape Town</td>\n",
       "      <td>2823.689237</td>\n",
       "      <td>0.894454</td>\n",
       "      <td>0</td>\n",
       "      <td>0</td>\n",
       "      <td>0</td>\n",
       "      <td>1</td>\n",
       "      <td>0</td>\n",
       "    </tr>\n",
       "  </tbody>\n",
       "</table>\n",
       "</div>"
      ],
      "text/plain": [
       "        ID Type_of_AC  Model  Cooling_Capacity  Avg_Temp  Room_SIze  \\\n",
       "0   795823      Split    1.5           6579.15        43     1873.5   \n",
       "1   506848     Window    1.1           6775.44        46     1603.8   \n",
       "2   441027   Portable    3.8           6995.22        29     4807.0   \n",
       "3   160677     Window    1.2           1863.68        39     1466.4   \n",
       "4   902932     Window    2.5           3089.04        40     3139.4   \n",
       "5   553568   Portable    2.2           6014.60        43     3113.0   \n",
       "6   575810     Ducted    1.8           1782.98        34     2527.2   \n",
       "7   820893     Ducted    2.5           2413.75        35     3100.0   \n",
       "8   560651     Ducted    1.3           7543.88        38     1818.7   \n",
       "9   475468      Split    3.4           6732.16        34     4331.6   \n",
       "10  773019     Window    2.5           4401.25        29     3680.0   \n",
       "11  801600     Ducted    3.7           3151.00        38     4628.7   \n",
       "12  597071   Portable    3.1           6453.06        33     4154.0   \n",
       "13  625099   Portable    1.2          11267.20        38     1467.6   \n",
       "14  788506     Ducted   10.8           5974.08        35     3642.3   \n",
       "15  308559      Split    3.9           8149.57        43     5358.6   \n",
       "16  147406     Ducted    1.3           4468.02        37     1801.8   \n",
       "17  892059     Ducted    2.3           2870.82        40     2868.1   \n",
       "18  489042     Window    1.6           5631.80        35     2337.6   \n",
       "19  201419   Portable   15.6           1727.77        37     5775.9   \n",
       "\n",
       "    Num_People  Star_Rating  Age_of_Unit  Maintenance  Avg_Usage  Avg_AC_Temp  \\\n",
       "0            3          3.0          5.0            0      1.720    31.333333   \n",
       "1            4          4.0          1.0            0     18.000    29.500000   \n",
       "2           38          4.0          1.0            0      0.551    13.763158   \n",
       "3           10          4.0          0.0            0     19.540    22.900000   \n",
       "4            9          5.0          4.0            0     16.760    18.444444   \n",
       "5            6          4.0          6.0            1     17.286    18.166667   \n",
       "6           17          5.0          5.0            0      2.516    14.000000   \n",
       "7           24          5.0          3.0            0     11.970    14.458333   \n",
       "8            9          1.0          6.0            0     12.738    17.222222   \n",
       "9           30          3.0          3.0            0     18.768    17.133333   \n",
       "10           7          4.0          2.0            0      7.917    14.142857   \n",
       "11          32          4.0          3.0            0      6.726    20.187500   \n",
       "12          29          5.0          4.0            0     19.767    16.137931   \n",
       "13           4          5.0          2.0            0     14.144    20.500000   \n",
       "14           7          3.0          2.0            0      4.130    21.000000   \n",
       "15          21          4.0          5.0            0     16.000    17.047619   \n",
       "16           3          4.0          5.0            0     16.206    24.333333   \n",
       "17          20          4.0          6.0            0     16.920    13.000000   \n",
       "18          18          5.0          0.0            1     13.195    12.944444   \n",
       "19          11          4.0          3.0            0     17.000    16.363636   \n",
       "\n",
       "         City  Input_Power  Electricity_Consumption_AC  Modelnan  \\\n",
       "0       Cairo  2863.295221                    0.654406         0   \n",
       "1   Bucharest  2783.309698                    0.293416         0   \n",
       "2      Berlin  2882.606418                    0.993992         0   \n",
       "3   Cape Town  2607.089566                    0.432432         0   \n",
       "4      Berlin  2681.359161                    0.780242         1   \n",
       "5      Moscow  2994.494603                    0.942738         0   \n",
       "6       Delhi  2964.533711                    0.468753         0   \n",
       "7   Sao Paolo  2637.227622                    0.527093         0   \n",
       "8      Berlin  2719.611326                    0.817575         0   \n",
       "9    New York  2986.438366                    0.873383         0   \n",
       "10  Sao Paolo  2743.298474                    0.679555         0   \n",
       "11     Geneva  2682.989859                    0.825928         0   \n",
       "12     Berlin  3162.371290                    0.992511         0   \n",
       "13     Moscow  2838.138834                    0.322808         0   \n",
       "14  Bucharest  2942.542645                    0.794801         0   \n",
       "15      Delhi  3026.469106                    1.022451         0   \n",
       "16      Delhi  3124.819334                    0.678034         0   \n",
       "17     Mumbai  3038.393527                    0.634988         0   \n",
       "18    Missing  2879.891856                    0.597737         0   \n",
       "19  Cape Town  2823.689237                    0.894454         0   \n",
       "\n",
       "    Room_SIzenan  Star_Ratingnan  Age_of_Unitnan  Input_Powernan  \n",
       "0              0               0               0               0  \n",
       "1              0               0               0               0  \n",
       "2              0               0               0               0  \n",
       "3              0               0               0               0  \n",
       "4              0               0               0               0  \n",
       "5              0               0               0               0  \n",
       "6              0               0               0               0  \n",
       "7              0               0               0               0  \n",
       "8              0               0               0               0  \n",
       "9              0               0               0               0  \n",
       "10             0               0               0               0  \n",
       "11             0               0               0               0  \n",
       "12             0               0               0               0  \n",
       "13             0               0               0               0  \n",
       "14             0               0               0               0  \n",
       "15             0               0               0               0  \n",
       "16             0               0               0               0  \n",
       "17             0               1               0               0  \n",
       "18             0               0               0               0  \n",
       "19             0               0               1               0  "
      ]
     },
     "execution_count": 163,
     "metadata": {},
     "output_type": "execute_result"
    }
   ],
   "source": [
    "data.head(20)"
   ]
  },
  {
   "cell_type": "code",
   "execution_count": 164,
   "id": "12a96f02",
   "metadata": {},
   "outputs": [],
   "source": [
    "#from sklearn.compose import ColumnTransformer\n",
    "#from sklearn.impute import SimpleImputer\n",
    "#from sklearn.preprocessing import OneHotEncoder\n",
    "#from sklearn.preprocessing import OrdinalEncoder\n",
    "#transformer = ColumnTransformer(transformers=[\n",
    "#    ('tnf1',SimpleImputer(),['Model','Cooling_Capacity','Avg_Temp','Room_SIze','Num_People','Star_Rating','Age_of_Unit','Avg_Usage','Avg_AC_Temp','Input_Power']),\n",
    "#    ('tnf2',OneHotEncoder(sparse=False,drop='first'),['Type_of_AC','City'])\n",
    "#],remainder='passthrough')"
   ]
  },
  {
   "cell_type": "code",
   "execution_count": 165,
   "id": "131cb87b",
   "metadata": {},
   "outputs": [],
   "source": [
    "#X_train = data.copy()\n",
    "#transformer.fit_transform(X_train).shape"
   ]
  },
  {
   "cell_type": "code",
   "execution_count": 166,
   "id": "fbb4f026",
   "metadata": {},
   "outputs": [],
   "source": [
    "#X_train"
   ]
  },
  {
   "cell_type": "markdown",
   "id": "b6c826b6",
   "metadata": {},
   "source": [
    "# Handling Test file\n"
   ]
  },
  {
   "cell_type": "code",
   "execution_count": 167,
   "id": "221578df",
   "metadata": {},
   "outputs": [
    {
     "name": "stdout",
     "output_type": "stream",
     "text": [
      "<class 'pandas.core.frame.DataFrame'>\n",
      "RangeIndex: 5000 entries, 0 to 4999\n",
      "Data columns (total 14 columns):\n",
      " #   Column            Non-Null Count  Dtype  \n",
      "---  ------            --------------  -----  \n",
      " 0   ID                5000 non-null   int64  \n",
      " 1   Type_of_AC        5000 non-null   object \n",
      " 2   Model             4705 non-null   float64\n",
      " 3   Cooling_Capacity  5000 non-null   float64\n",
      " 4   Avg_Temp          5000 non-null   int64  \n",
      " 5   Room_SIze         4611 non-null   object \n",
      " 6   Num_People        5000 non-null   int64  \n",
      " 7   Star_Rating       4724 non-null   object \n",
      " 8   Age_of_Unit       4665 non-null   float64\n",
      " 9   Maintenance       5000 non-null   int64  \n",
      " 10  Avg_Usage         5000 non-null   float64\n",
      " 11  Avg_AC_Temp       5000 non-null   float64\n",
      " 12  City              4513 non-null   object \n",
      " 13  Input_Power       4763 non-null   object \n",
      "dtypes: float64(5), int64(4), object(5)\n",
      "memory usage: 547.0+ KB\n"
     ]
    }
   ],
   "source": [
    "df_test.info()"
   ]
  },
  {
   "cell_type": "code",
   "execution_count": 168,
   "id": "0ec1de2a",
   "metadata": {},
   "outputs": [],
   "source": [
    "# Define the list of values you want to drop\n",
    "values_to_drop = ['?','$$', '__', '.', 'blank', '-10e9','1k','-1.00E+10']\n",
    "\n",
    "# Filter and drop rows containing these values in any column\n",
    "df_test =df_test[~df_test.isin(values_to_drop).any(axis=1)]\n",
    "\n",
    "# Reset the index after dropping rows\n",
    "df_test =df_test.reset_index(drop=True)"
   ]
  },
  {
   "cell_type": "code",
   "execution_count": 169,
   "id": "568dde28",
   "metadata": {},
   "outputs": [
    {
     "name": "stdout",
     "output_type": "stream",
     "text": [
      "<class 'pandas.core.frame.DataFrame'>\n",
      "RangeIndex: 4977 entries, 0 to 4976\n",
      "Data columns (total 14 columns):\n",
      " #   Column            Non-Null Count  Dtype  \n",
      "---  ------            --------------  -----  \n",
      " 0   ID                4977 non-null   int64  \n",
      " 1   Type_of_AC        4977 non-null   object \n",
      " 2   Model             4684 non-null   float64\n",
      " 3   Cooling_Capacity  4977 non-null   float64\n",
      " 4   Avg_Temp          4977 non-null   int64  \n",
      " 5   Room_SIze         4588 non-null   object \n",
      " 6   Num_People        4977 non-null   int64  \n",
      " 7   Star_Rating       4706 non-null   object \n",
      " 8   Age_of_Unit       4642 non-null   float64\n",
      " 9   Maintenance       4977 non-null   int64  \n",
      " 10  Avg_Usage         4977 non-null   float64\n",
      " 11  Avg_AC_Temp       4977 non-null   float64\n",
      " 12  City              4492 non-null   object \n",
      " 13  Input_Power       4741 non-null   object \n",
      "dtypes: float64(5), int64(4), object(5)\n",
      "memory usage: 544.5+ KB\n"
     ]
    }
   ],
   "source": [
    "df_test.info()"
   ]
  },
  {
   "cell_type": "code",
   "execution_count": 175,
   "id": "9965b7b5",
   "metadata": {},
   "outputs": [
    {
     "name": "stdout",
     "output_type": "stream",
     "text": [
      "<class 'pandas.core.frame.DataFrame'>\n",
      "RangeIndex: 4977 entries, 0 to 4976\n",
      "Data columns (total 14 columns):\n",
      " #   Column            Non-Null Count  Dtype  \n",
      "---  ------            --------------  -----  \n",
      " 0   ID                4977 non-null   int64  \n",
      " 1   Type_of_AC        4977 non-null   object \n",
      " 2   Model             4684 non-null   float64\n",
      " 3   Cooling_Capacity  4977 non-null   float64\n",
      " 4   Avg_Temp          4977 non-null   int64  \n",
      " 5   Room_SIze         4588 non-null   float64\n",
      " 6   Num_People        4977 non-null   int64  \n",
      " 7   Star_Rating       4706 non-null   float64\n",
      " 8   Age_of_Unit       4642 non-null   float64\n",
      " 9   Maintenance       4977 non-null   int64  \n",
      " 10  Avg_Usage         4977 non-null   float64\n",
      " 11  Avg_AC_Temp       4977 non-null   float64\n",
      " 12  City              4492 non-null   object \n",
      " 13  Input_Power       4741 non-null   float64\n",
      "dtypes: float64(8), int64(4), object(2)\n",
      "memory usage: 544.5+ KB\n"
     ]
    }
   ],
   "source": [
    "df_test1=df_test.copy()\n",
    "df_test1.info()"
   ]
  },
  {
   "cell_type": "code",
   "execution_count": 176,
   "id": "52e0e99f",
   "metadata": {},
   "outputs": [],
   "source": [
    "df_test['Room_SIze'] = df_test['Room_SIze'].astype('float')\n",
    "df_test['Star_Rating'] = df_test['Star_Rating'].astype('float')\n",
    "df_test['Input_Power'] = df_test['Input_Power'].astype('float')"
   ]
  },
  {
   "cell_type": "code",
   "execution_count": 177,
   "id": "5699e699",
   "metadata": {},
   "outputs": [
    {
     "name": "stdout",
     "output_type": "stream",
     "text": [
      "City: 0.0974% missing values\n"
     ]
    }
   ],
   "source": [
    "## Let us capture all the nan values\n",
    "## First lets handle Categorical features which are missing\n",
    "features_nan_test=[feature for feature in df_test.columns if df_test[feature].isnull().sum()>1 and df_test[feature].dtypes=='O']\n",
    "\n",
    "for feature in features_nan_test:\n",
    "    print(\"{}: {}% missing values\".format(feature,np.round(df_test[feature].isnull().mean(),4)))"
   ]
  },
  {
   "cell_type": "code",
   "execution_count": 180,
   "id": "ff9a7e92",
   "metadata": {},
   "outputs": [
    {
     "name": "stdout",
     "output_type": "stream",
     "text": [
      "<class 'pandas.core.frame.DataFrame'>\n",
      "RangeIndex: 4977 entries, 0 to 4976\n",
      "Data columns (total 14 columns):\n",
      " #   Column            Non-Null Count  Dtype  \n",
      "---  ------            --------------  -----  \n",
      " 0   ID                4977 non-null   int64  \n",
      " 1   Type_of_AC        4977 non-null   object \n",
      " 2   Model             4684 non-null   float64\n",
      " 3   Cooling_Capacity  4977 non-null   float64\n",
      " 4   Avg_Temp          4977 non-null   int64  \n",
      " 5   Room_SIze         4588 non-null   float64\n",
      " 6   Num_People        4977 non-null   int64  \n",
      " 7   Star_Rating       4706 non-null   float64\n",
      " 8   Age_of_Unit       4642 non-null   float64\n",
      " 9   Maintenance       4977 non-null   int64  \n",
      " 10  Avg_Usage         4977 non-null   float64\n",
      " 11  Avg_AC_Temp       4977 non-null   float64\n",
      " 12  City              4492 non-null   object \n",
      " 13  Input_Power       4741 non-null   float64\n",
      "dtypes: float64(8), int64(4), object(2)\n",
      "memory usage: 544.5+ KB\n"
     ]
    }
   ],
   "source": [
    "df_test.info()"
   ]
  },
  {
   "cell_type": "code",
   "execution_count": 182,
   "id": "ae2ca6df",
   "metadata": {},
   "outputs": [
    {
     "data": {
      "text/plain": [
       "City    0\n",
       "dtype: int64"
      ]
     },
     "execution_count": 182,
     "metadata": {},
     "output_type": "execute_result"
    }
   ],
   "source": [
    "## Replace missing value with a new label\n",
    "def replace_cat_feature_test(df_test,features_nan_test):\n",
    "   \n",
    "    df_test[features_nan_test]=df_test[features_nan_test].fillna('Missing')\n",
    "    return data\n",
    "\n",
    "df_test=replace_cat_feature(df_test,features_nan_test)\n",
    "\n",
    "df_test[features_nan_test].isnull().sum()"
   ]
  },
  {
   "cell_type": "code",
   "execution_count": 183,
   "id": "f68f6143",
   "metadata": {},
   "outputs": [
    {
     "name": "stdout",
     "output_type": "stream",
     "text": [
      "<class 'pandas.core.frame.DataFrame'>\n",
      "RangeIndex: 4977 entries, 0 to 4976\n",
      "Data columns (total 14 columns):\n",
      " #   Column            Non-Null Count  Dtype  \n",
      "---  ------            --------------  -----  \n",
      " 0   ID                4977 non-null   int64  \n",
      " 1   Type_of_AC        4977 non-null   object \n",
      " 2   Model             4684 non-null   float64\n",
      " 3   Cooling_Capacity  4977 non-null   float64\n",
      " 4   Avg_Temp          4977 non-null   int64  \n",
      " 5   Room_SIze         4588 non-null   float64\n",
      " 6   Num_People        4977 non-null   int64  \n",
      " 7   Star_Rating       4706 non-null   float64\n",
      " 8   Age_of_Unit       4642 non-null   float64\n",
      " 9   Maintenance       4977 non-null   int64  \n",
      " 10  Avg_Usage         4977 non-null   float64\n",
      " 11  Avg_AC_Temp       4977 non-null   float64\n",
      " 12  City              4977 non-null   object \n",
      " 13  Input_Power       4741 non-null   float64\n",
      "dtypes: float64(8), int64(4), object(2)\n",
      "memory usage: 544.5+ KB\n"
     ]
    }
   ],
   "source": [
    "df_test.info()"
   ]
  },
  {
   "cell_type": "code",
   "execution_count": 184,
   "id": "6ea4fcc4",
   "metadata": {},
   "outputs": [
    {
     "name": "stdout",
     "output_type": "stream",
     "text": [
      "Model: 0.0589% missing value\n",
      "Room_SIze: 0.0782% missing value\n",
      "Star_Rating: 0.0545% missing value\n",
      "Age_of_Unit: 0.0673% missing value\n",
      "Input_Power: 0.0474% missing value\n"
     ]
    }
   ],
   "source": [
    "## Now lets check for numerical variables the contains missing values\n",
    "numerical_with_nan_test=[feature for feature in df_test.columns if df_test[feature].isnull().sum()>1 and df_test[feature].dtypes!='O']\n",
    "\n",
    "## We will print the numerical nan variables and percentage of missing values\n",
    "\n",
    "for feature in numerical_with_nan_test:\n",
    "    print(\"{}: {}% missing value\".format(feature,np.around(df_test[feature].isnull().mean(),4)))"
   ]
  },
  {
   "cell_type": "code",
   "execution_count": 185,
   "id": "f18f1c48",
   "metadata": {},
   "outputs": [
    {
     "data": {
      "text/plain": [
       "Model          0\n",
       "Room_SIze      0\n",
       "Star_Rating    0\n",
       "Age_of_Unit    0\n",
       "Input_Power    0\n",
       "dtype: int64"
      ]
     },
     "execution_count": 185,
     "metadata": {},
     "output_type": "execute_result"
    }
   ],
   "source": [
    "## Replacing the numerical Missing Values\n",
    "\n",
    "for feature in numerical_with_nan_test:\n",
    "    ## We will replace by using median since there are outliers\n",
    "    median_value=df_test[feature].median()\n",
    "    \n",
    "    ## create a new feature to capture nan values\n",
    "    df_test[feature+'nan']=np.where(df_test[feature].isnull(),1,0)\n",
    "    df_test[feature].fillna(median_value,inplace=True)\n",
    "    \n",
    "df_test[numerical_with_nan_test].isnull().sum()\n",
    "    "
   ]
  },
  {
   "cell_type": "code",
   "execution_count": 186,
   "id": "0607db0d",
   "metadata": {},
   "outputs": [
    {
     "name": "stdout",
     "output_type": "stream",
     "text": [
      "<class 'pandas.core.frame.DataFrame'>\n",
      "RangeIndex: 4977 entries, 0 to 4976\n",
      "Data columns (total 19 columns):\n",
      " #   Column            Non-Null Count  Dtype  \n",
      "---  ------            --------------  -----  \n",
      " 0   ID                4977 non-null   int64  \n",
      " 1   Type_of_AC        4977 non-null   object \n",
      " 2   Model             4977 non-null   float64\n",
      " 3   Cooling_Capacity  4977 non-null   float64\n",
      " 4   Avg_Temp          4977 non-null   int64  \n",
      " 5   Room_SIze         4977 non-null   float64\n",
      " 6   Num_People        4977 non-null   int64  \n",
      " 7   Star_Rating       4977 non-null   float64\n",
      " 8   Age_of_Unit       4977 non-null   float64\n",
      " 9   Maintenance       4977 non-null   int64  \n",
      " 10  Avg_Usage         4977 non-null   float64\n",
      " 11  Avg_AC_Temp       4977 non-null   float64\n",
      " 12  City              4977 non-null   object \n",
      " 13  Input_Power       4977 non-null   float64\n",
      " 14  Modelnan          4977 non-null   int32  \n",
      " 15  Room_SIzenan      4977 non-null   int32  \n",
      " 16  Star_Ratingnan    4977 non-null   int32  \n",
      " 17  Age_of_Unitnan    4977 non-null   int32  \n",
      " 18  Input_Powernan    4977 non-null   int32  \n",
      "dtypes: float64(8), int32(5), int64(4), object(2)\n",
      "memory usage: 641.7+ KB\n"
     ]
    }
   ],
   "source": [
    "df_test.info()"
   ]
  },
  {
   "cell_type": "code",
   "execution_count": 187,
   "id": "74d2f41f",
   "metadata": {},
   "outputs": [
    {
     "name": "stdout",
     "output_type": "stream",
     "text": [
      "<class 'pandas.core.frame.DataFrame'>\n",
      "RangeIndex: 14917 entries, 0 to 14916\n",
      "Data columns (total 20 columns):\n",
      " #   Column                      Non-Null Count  Dtype  \n",
      "---  ------                      --------------  -----  \n",
      " 0   ID                          14917 non-null  int64  \n",
      " 1   Type_of_AC                  14917 non-null  object \n",
      " 2   Model                       14917 non-null  float64\n",
      " 3   Cooling_Capacity            14917 non-null  float64\n",
      " 4   Avg_Temp                    14917 non-null  int64  \n",
      " 5   Room_SIze                   14917 non-null  float64\n",
      " 6   Num_People                  14917 non-null  int64  \n",
      " 7   Star_Rating                 14917 non-null  float64\n",
      " 8   Age_of_Unit                 14917 non-null  float64\n",
      " 9   Maintenance                 14917 non-null  int64  \n",
      " 10  Avg_Usage                   14917 non-null  float64\n",
      " 11  Avg_AC_Temp                 14917 non-null  float64\n",
      " 12  City                        14917 non-null  object \n",
      " 13  Input_Power                 14917 non-null  float64\n",
      " 14  Electricity_Consumption_AC  14917 non-null  float64\n",
      " 15  Modelnan                    14917 non-null  int32  \n",
      " 16  Room_SIzenan                14917 non-null  int32  \n",
      " 17  Star_Ratingnan              14917 non-null  int32  \n",
      " 18  Age_of_Unitnan              14917 non-null  int32  \n",
      " 19  Input_Powernan              14917 non-null  int32  \n",
      "dtypes: float64(9), int32(5), int64(4), object(2)\n",
      "memory usage: 2.0+ MB\n"
     ]
    }
   ],
   "source": [
    "data.info()"
   ]
  },
  {
   "cell_type": "markdown",
   "id": "d9c7122d",
   "metadata": {},
   "source": [
    "# Splitting the data into train & test data"
   ]
  },
  {
   "cell_type": "code",
   "execution_count": 193,
   "id": "32b4c0d7",
   "metadata": {},
   "outputs": [],
   "source": [
    "# Splitting the dataset into X and y\n",
    "y= data['Electricity_Consumption_AC']\n",
    "X = data.drop(['Electricity_Consumption_AC'], axis=1)"
   ]
  },
  {
   "cell_type": "code",
   "execution_count": 198,
   "id": "a1cae454",
   "metadata": {},
   "outputs": [],
   "source": [
    "X_train,X_vald,y_train,y_vald = train_test_split(X,y,test_size=0.15,random_state=2)"
   ]
  },
  {
   "cell_type": "markdown",
   "id": "65147b9d",
   "metadata": {},
   "source": [
    "# RandomForestRegressor"
   ]
  },
  {
   "cell_type": "code",
   "execution_count": 199,
   "id": "6737dca0",
   "metadata": {},
   "outputs": [
    {
     "name": "stderr",
     "output_type": "stream",
     "text": [
      "C:\\Users\\T470s\\anaconda3\\lib\\site-packages\\sklearn\\preprocessing\\_encoders.py:828: FutureWarning: `sparse` was renamed to `sparse_output` in version 1.2 and will be removed in 1.4. `sparse_output` is ignored unless you leave `sparse` to its default value.\n",
      "  warnings.warn(\n"
     ]
    },
    {
     "name": "stdout",
     "output_type": "stream",
     "text": [
      "R2 score 0.7127208251941592\n"
     ]
    }
   ],
   "source": [
    "step1 = ColumnTransformer(transformers=[\n",
    "    ('col_tnf',OneHotEncoder(sparse=False,drop='first'),[1,12])\n",
    "],remainder='passthrough')\n",
    "\n",
    "step2 = RandomForestRegressor(n_estimators=100,\n",
    "                              random_state=3,\n",
    "                              max_samples=0.5,\n",
    "                              max_features=0.75,\n",
    "                              max_depth=15)\n",
    "\n",
    "pipe = Pipeline([\n",
    "    ('step1',step1),\n",
    "    ('step2',step2)\n",
    "])\n",
    "\n",
    "pipe.fit(X_train,y_train)\n",
    "\n",
    "y_pred = pipe.predict(X_vald)\n",
    "\n",
    "print('R2 score',r2_score(y_vald,y_pred))\n"
   ]
  },
  {
   "cell_type": "markdown",
   "id": "fd6759f8",
   "metadata": {},
   "source": [
    "# XGBRegressor"
   ]
  },
  {
   "cell_type": "code",
   "execution_count": 200,
   "id": "1e2d2902",
   "metadata": {},
   "outputs": [
    {
     "name": "stderr",
     "output_type": "stream",
     "text": [
      "C:\\Users\\T470s\\anaconda3\\lib\\site-packages\\sklearn\\preprocessing\\_encoders.py:828: FutureWarning: `sparse` was renamed to `sparse_output` in version 1.2 and will be removed in 1.4. `sparse_output` is ignored unless you leave `sparse` to its default value.\n",
      "  warnings.warn(\n"
     ]
    },
    {
     "name": "stdout",
     "output_type": "stream",
     "text": [
      "R2 score 0.72528385006115\n"
     ]
    }
   ],
   "source": [
    "step1 = ColumnTransformer(transformers=[\n",
    "    ('col_tnf',OneHotEncoder(sparse=False,drop='first'),[1,12])\n",
    "],remainder='passthrough')\n",
    "\n",
    "step2 = XGBRegressor(n_estimators=45,max_depth=5,learning_rate=0.5)\n",
    "\n",
    "pipe = Pipeline([\n",
    "    ('step1',step1),\n",
    "    ('step2',step2)\n",
    "])\n",
    "\n",
    "pipe.fit(X_train,y_train)\n",
    "\n",
    "y_pred = pipe.predict(X_vald)\n",
    "\n",
    "print('R2 score',r2_score(y_vald,y_pred))\n"
   ]
  },
  {
   "cell_type": "markdown",
   "id": "5c26de80",
   "metadata": {},
   "source": [
    "# GradientBoostingRegressor"
   ]
  },
  {
   "cell_type": "code",
   "execution_count": 203,
   "id": "7150d465",
   "metadata": {},
   "outputs": [
    {
     "name": "stderr",
     "output_type": "stream",
     "text": [
      "C:\\Users\\T470s\\anaconda3\\lib\\site-packages\\sklearn\\preprocessing\\_encoders.py:828: FutureWarning: `sparse` was renamed to `sparse_output` in version 1.2 and will be removed in 1.4. `sparse_output` is ignored unless you leave `sparse` to its default value.\n",
      "  warnings.warn(\n"
     ]
    },
    {
     "name": "stdout",
     "output_type": "stream",
     "text": [
      "R2 score 0.7656714236767874\n"
     ]
    }
   ],
   "source": [
    "step1 = ColumnTransformer(transformers=[\n",
    "    ('col_tnf',OneHotEncoder(sparse=False,drop='first'),[1,12])\n",
    "],remainder='passthrough')\n",
    "\n",
    "step2 = GradientBoostingRegressor(n_estimators=500,max_features=0.5)\n",
    "\n",
    "pipe = Pipeline([\n",
    "    ('step1',step1),\n",
    "    ('step2',step2)\n",
    "])\n",
    "\n",
    "pipe.fit(X_train,y_train)\n",
    "\n",
    "y_pred = pipe.predict(X_vald)\n",
    "\n",
    "print('R2 score',r2_score(y_vald,y_pred))\n"
   ]
  },
  {
   "cell_type": "markdown",
   "id": "7c4e3d85",
   "metadata": {},
   "source": [
    "# Final Prediction\n"
   ]
  },
  {
   "cell_type": "code",
   "execution_count": 204,
   "id": "280062c7",
   "metadata": {},
   "outputs": [
    {
     "name": "stderr",
     "output_type": "stream",
     "text": [
      "C:\\Users\\T470s\\anaconda3\\lib\\site-packages\\sklearn\\preprocessing\\_encoders.py:828: FutureWarning: `sparse` was renamed to `sparse_output` in version 1.2 and will be removed in 1.4. `sparse_output` is ignored unless you leave `sparse` to its default value.\n",
      "  warnings.warn(\n"
     ]
    },
    {
     "name": "stdout",
     "output_type": "stream",
     "text": [
      "R2 Score: 0.8133849578725603\n"
     ]
    }
   ],
   "source": [
    "step1 = ColumnTransformer(transformers=[\n",
    "    ('col_tnf',OneHotEncoder(sparse=False,drop='first'),[1,12])\n",
    "],remainder='passthrough')\n",
    "\n",
    "step2 = GradientBoostingRegressor(n_estimators=500,max_features=0.5)\n",
    "\n",
    "pipe = Pipeline([\n",
    "    ('step1',step1),\n",
    "    ('step2',step2)\n",
    "])\n",
    "\n",
    "# Separate the target variable from the training data\n",
    "X_train = data.drop(columns=['Electricity_Consumption_AC'])\n",
    "y_train = data['Electricity_Consumption_AC']\n",
    "\n",
    "\n",
    "# Fit the model to the training data\n",
    "pipe.fit(X_train,y_train)\n",
    "\n",
    "\n",
    "# Make predictions on the test data\n",
    "X_test = df_test  \n",
    "predictions = pipe.predict(X_test)\n",
    "\n",
    "# Calculate the R2 score\n",
    "y_true = data['Electricity_Consumption_AC']\n",
    "r2 = r2_score(y_true, pipe.predict(X_train))\n",
    "print(f'R2 Score: {r2}')\n",
    "\n"
   ]
  },
  {
   "cell_type": "code",
   "execution_count": 206,
   "id": "5a47cb70",
   "metadata": {},
   "outputs": [],
   "source": [
    "# Create a submission DataFrame\n",
    "submission = pd.DataFrame({\n",
    "    'ID': df_test['ID'],\n",
    "    'Electricity_Consumption_AC': predictions\n",
    "})\n",
    "\n",
    "# Save the submission DataFrame to a CSV file\n",
    "submission.to_csv('submission.csv', index=False)"
   ]
  },
  {
   "cell_type": "code",
   "execution_count": 207,
   "id": "6b148202",
   "metadata": {},
   "outputs": [
    {
     "name": "stdout",
     "output_type": "stream",
     "text": [
      "<class 'pandas.core.frame.DataFrame'>\n",
      "RangeIndex: 4977 entries, 0 to 4976\n",
      "Data columns (total 2 columns):\n",
      " #   Column                      Non-Null Count  Dtype  \n",
      "---  ------                      --------------  -----  \n",
      " 0   ID                          4977 non-null   int64  \n",
      " 1   Electricity_Consumption_AC  4977 non-null   float64\n",
      "dtypes: float64(1), int64(1)\n",
      "memory usage: 77.9 KB\n"
     ]
    }
   ],
   "source": [
    "submission.info()"
   ]
  },
  {
   "cell_type": "code",
   "execution_count": 208,
   "id": "d996423d",
   "metadata": {},
   "outputs": [
    {
     "data": {
      "text/html": [
       "<div>\n",
       "<style scoped>\n",
       "    .dataframe tbody tr th:only-of-type {\n",
       "        vertical-align: middle;\n",
       "    }\n",
       "\n",
       "    .dataframe tbody tr th {\n",
       "        vertical-align: top;\n",
       "    }\n",
       "\n",
       "    .dataframe thead th {\n",
       "        text-align: right;\n",
       "    }\n",
       "</style>\n",
       "<table border=\"1\" class=\"dataframe\">\n",
       "  <thead>\n",
       "    <tr style=\"text-align: right;\">\n",
       "      <th></th>\n",
       "      <th>ID</th>\n",
       "      <th>Electricity_Consumption_AC</th>\n",
       "    </tr>\n",
       "  </thead>\n",
       "  <tbody>\n",
       "    <tr>\n",
       "      <th>0</th>\n",
       "      <td>191220</td>\n",
       "      <td>0.749788</td>\n",
       "    </tr>\n",
       "    <tr>\n",
       "      <th>1</th>\n",
       "      <td>174111</td>\n",
       "      <td>0.343684</td>\n",
       "    </tr>\n",
       "    <tr>\n",
       "      <th>2</th>\n",
       "      <td>614605</td>\n",
       "      <td>0.743154</td>\n",
       "    </tr>\n",
       "    <tr>\n",
       "      <th>3</th>\n",
       "      <td>865325</td>\n",
       "      <td>0.543968</td>\n",
       "    </tr>\n",
       "    <tr>\n",
       "      <th>4</th>\n",
       "      <td>134921</td>\n",
       "      <td>0.701344</td>\n",
       "    </tr>\n",
       "  </tbody>\n",
       "</table>\n",
       "</div>"
      ],
      "text/plain": [
       "       ID  Electricity_Consumption_AC\n",
       "0  191220                    0.749788\n",
       "1  174111                    0.343684\n",
       "2  614605                    0.743154\n",
       "3  865325                    0.543968\n",
       "4  134921                    0.701344"
      ]
     },
     "execution_count": 208,
     "metadata": {},
     "output_type": "execute_result"
    }
   ],
   "source": [
    "submission.head()"
   ]
  },
  {
   "cell_type": "code",
   "execution_count": null,
   "id": "66b30e39",
   "metadata": {},
   "outputs": [],
   "source": []
  }
 ],
 "metadata": {
  "kernelspec": {
   "display_name": "Python 3 (ipykernel)",
   "language": "python",
   "name": "python3"
  },
  "language_info": {
   "codemirror_mode": {
    "name": "ipython",
    "version": 3
   },
   "file_extension": ".py",
   "mimetype": "text/x-python",
   "name": "python",
   "nbconvert_exporter": "python",
   "pygments_lexer": "ipython3",
   "version": "3.10.9"
  }
 },
 "nbformat": 4,
 "nbformat_minor": 5
}
